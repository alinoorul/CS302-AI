{
 "cells": [
  {
   "cell_type": "code",
   "execution_count": 1,
   "metadata": {},
   "outputs": [],
   "source": [
    "import random\n",
    "import math\n",
    "import itertools\n",
    "import logging\n",
    "import numpy as np\n",
    "import pandas as pd\n",
    "from sklearn import datasets\n",
    "import statsmodels.api as sm\n",
    "from imageio import imread\n",
    "import time\n",
    "import matplotlib.pyplot as plt\n",
    "from geopy.geocoders import Nominatim \n",
    "from geopy.distance import distance\n",
    "from geopy import geocoders\n",
    "logging.basicConfig(format = '%(asctime)s : %(levelname)s : %(message)s',level=logging.INFO)"
   ]
  },
  {
   "cell_type": "code",
   "execution_count": 2,
   "metadata": {},
   "outputs": [],
   "source": [
    "class SimulatedAnnealing(object):\n",
    "    #applies simulated annealing to a TSP\n",
    "    def _init_(self):\n",
    "        self.temperature_initial = 1\n",
    "        self.temperature_terminal = .0001\n",
    "        self.cooling_rate = .99\n",
    "        self.x = None\n",
    "        self.y = None\n",
    "        self.trip = None\n",
    "        self.neighbor_trip = None\n",
    "        self.state_evolution=[]\n",
    "        self.distances = None\n",
    "        self.latlong = None\n",
    "        \n",
    "    def define_problem(self, cities, round_trip=True, shuffle = True):\n",
    "        \"\"\"define the problem\n",
    "        cities : list of name of cities as strings\n",
    "        round_trip : true if start == end\n",
    "        shuffle : choose random permutation\"\"\"\n",
    "        if round_trip :\n",
    "            self.trip = cities\n",
    "            if shuffle :\n",
    "                 random.shuffle(self.trip)\n",
    "                    \n",
    "    @staticmethod\n",
    "    def retrieve_latlong_for_city(city) :\n",
    "        \"\"\"calculate distances for all the cities\n",
    "        and give output as matrix\"\"\"\n",
    "        geolocator = Nominatim(user_agent=\"TSP_Annealing\")\n",
    "        c = geolocator.geocode(city)\n",
    "        return [c.latitude, c.longitude]\n",
    "    \n",
    "    def retrieve_distance_between_cities(self, city1, city2, unit = 'Km') :\n",
    "        \"\"\"to find distances betweeen cities\"\"\"\n",
    "        geolocator = Nominatim(user_agent=\"TSP_Annealing\")\n",
    "        c1 = geolocator.geocode(city1)\n",
    "        c2 = geolocator.geocode(city2)\n",
    "        print(\"distance between \"+city1 + \"and \" + city2, distance(c1.point,c2.point).km)\n",
    "        if unit == 'km':\n",
    "            return distance(c1.point,c2.point).km\n",
    "        if unit == 'miles':\n",
    "            return distance(c1.point,c2.point).miles\n",
    "        \n",
    "    def make_latlong(self, load_from_file = None):\n",
    "        \"\"\"generate a data frame using previously defined cities \n",
    "        with their respective longitude and latitude\"\"\"\n",
    "        if load_from_file :\n",
    "            self.latlong = pd.read_csv(load_from_file)\n",
    "        else :\n",
    "            assert self.trip is not None,'The problem has not been defined. define_problem()'\n",
    "            latlong = pd.DataFrame(self.trip)\n",
    "            latlong[1] = latlong[0].apply(t.retrieve_latlong_for_city)\n",
    "            latlong[['latitude','longitude']] = pd.DataFrame([x for x in latlong[1]])\n",
    "            latlong.index = latlong[0]\n",
    "            del latlong[0]\n",
    "            del latlong[1]\n",
    "            self.latlong = latlong\n",
    "            # print(latlong)\n",
    "    def make_distances(self, load_from_file = None):\n",
    "        if load_from_file:\n",
    "            self.distances = pd.read_csv(load_from_file)\n",
    "        else:\n",
    "            assert self.trip is not None,'The problem has not been defined. define_problem()'\n",
    "            distances = pd.DataFrame(np.zeros([len(self.trip),len(self.trip)]))\n",
    "            # a matrix with zeros and order of length trip\n",
    "            distances = distances.replace(0, -1)\n",
    "            distances.columns = self.trip\n",
    "            distances.index = self.trip\n",
    "            self.distances = distances\n",
    "            # column and row name alloted and zeros replaced with -1\n",
    "            for city in self.trip:\n",
    "                #print(\"Before\")\n",
    "                self.distances.loc[city].loc[city] = 0\n",
    "            for city_tuple in itertools.combinations(self.trip, 2):\n",
    "                logging.debug(city_tuple)\n",
    "                if self.distances.loc[city_tuple[0]].loc[city_tuple[1]] < 0 \\\n",
    "                       or self.distances.loc[city_tuple[1]].loc[city_tuple[0]] < 0:\n",
    "                    try:\n",
    "                        # before calling retrieve_distance()\n",
    "                        dist = self.retrieve_distance_between_cities(city_tuple[0], city_tuple[1])\n",
    "                    except GeocoderUnavailable:\n",
    "                        logging.warning('Geopy geocode was not available')\n",
    "                        dist = np.nan\n",
    "                    except HTTPError:\n",
    "                        logging.warning('Too many equests for geopy, waitinf for a few sectonds')\n",
    "                        time.sleep(30)\n",
    "                        dist = np.nan\n",
    "                    self.distances.loc[city_tuple[0]].loc[city_tuple[1]] = dist\n",
    "                    self.distances.loc[city_tuple[1]].loc[city_tuple[0]] = dist\n",
    "                    \n",
    "    def energy(self, trip):\n",
    "        \"\"\"energy function for the annealing progress \n",
    "           calculate the total distance of the journey with the current order of the cities\n",
    "           \"\"\"\n",
    "        return self.journey_distance(trip)\n",
    "    def journey_distance(self, trip, round_trip = True):\n",
    "        \"\"\"Take a list of cities and calculate the distance of the round_trip\"\"\"\n",
    "        assert self.distances is not None,'No distance matrix loaded'\n",
    "        distances = []\n",
    "        if round_trip:\n",
    "            for i in range(len(trip)-1):\n",
    "                distances.append(self.distances.loc[trip[i]].loc[trip[i+1]]) #------@1\n",
    "        return np.array(distances).sum()\n",
    "    @staticmethod\n",
    "    def acceptance_probability(energy_old, energy_new, T):\n",
    "        \"\"\"compare energy states w.r.t. current temperaure\"\"\"\n",
    "        return np.exp((energy_old - energy_new)/T)\n",
    "    def generate_neighbor(self):\n",
    "        \"\"\"switch two random cities\"\"\"\n",
    "        trip.neighbor = self.trip.copy()\n",
    "        sw = random.sample(range(len(self.trip)), 2)\n",
    "        trip_neighbor[sw[1]],trip_neighbor[sw[0]] = trip_neighbor[sw[0]], trip_neighbor[sw[1]]\n",
    "        self.trip_neighbor = trip_neighbor\n",
    "        \n",
    "    def anneal(self):\n",
    "        \"\"\"simulated annealing\"\"\"\n",
    "        assert self.distances is not None,'Distance file is not present'\n",
    "        assert self.trip is not None,'problem is not defined, run self.define_problem()'\n",
    "        self.state_evolution.append(self.trip) #state_evolution only serves to follow up on the states chosen\n",
    "        T = self.temperature_initial\n",
    "        while T > self.temperture_terminal:\n",
    "            for n in range(len(self.trip)):\n",
    "                self.generate_neighbor()\n",
    "                energy_old = self.energy(self.trip)\n",
    "                energy_new = self.energy(self.trip_neighbor)\n",
    "                if self.acceptance_probability(energy_old, energy_new, T) > random.random():\n",
    "                    self.trip = self.trip_neighbor #the alternative state was accepted\n",
    "                    self.state_evolution.append(self.trip)\n",
    "            T *= self.cooling_rate\n",
    "        return self.trip\n",
    "                           \n",
    "    \n",
    "    def energypath(self):\n",
    "                           for n in range(len(self.state_evolution)):\n",
    "                                print(self.state_evolution[n],\"Distance:\", self.journey_distance(self.state_evolution[n]))\n",
    "    # Visualization\n",
    "                           \n",
    "    def visualize_one_state(self, state):\n",
    "        \"\"\"Draw one state as map\"\"\"\n",
    "        if self.latlong is None:\n",
    "             self.make_latlong()\n",
    "        # city grid\n",
    "        self.latlong.plot.scatter('longitude', 'latitude', zorder=1)\n",
    "        for n in range(len(state)-1):\n",
    "             self.draw_line_between(state[n], state[n+1])\n",
    "        return plt\n",
    "    \n",
    "    def draw_line_between(self, city1, city2):\n",
    "            \"\"\"Draw a line between two cities\"\"\"\n",
    "            plt.plot([self.latlong.loc[city1].loc['longitude'],self.latlong.loc[city2].loc['longitude']],\n",
    "                     [self.latlong.loc[city1].loc['latitude'],self.latlong.loc[city2].loc['latitude']])\n",
    "            return plt\n",
    "    def visualize_all_states(self, folder=''):\n",
    "            \"\"\"save all different states as png\"\"\"\n",
    "            i=0\n",
    "            for state in self.state_evolution:\n",
    "                    plt = self.visualize_one_state(state)\n",
    "                    plt.savefig(folder+ 'tsp_'+ str(i))\n",
    "                    i += 1\n",
    "    def annotate_city(self, city):\n",
    "            \"\"\"Add city labels to the viualizations\"\"\"\n",
    "            x_lab = self.latlong.loc[city].loc['longitude'] + 0.5\n",
    "            y_lab = self.latlong.loc[city].loc['latitude'] + 0.5\n",
    "            return plt.annotate(city, xy=(x_lab, y_lab), xytext=(x_lab, y_lab))\n",
    "                           \n",
    "                                                  \n",
    "    \n",
    "        "
   ]
  },
  {
   "cell_type": "code",
   "execution_count": 3,
   "metadata": {},
   "outputs": [],
   "source": [
    "t = SimulatedAnnealing()"
   ]
  },
  {
   "cell_type": "code",
   "execution_count": 4,
   "metadata": {},
   "outputs": [],
   "source": [
    "t.define_problem(['Chittorgarh', 'Udaipur', 'Ajmer', 'Pushkar', 'Ranthambore', 'Jaipur', 'Jodhpur', 'Bikaner', 'Bundi', 'Bharatpur', 'Kota', 'Mount Abu', 'Virat Nagar', 'Kumbhalgarh', 'Shekhawati', 'Sariska', 'Ranakpur', 'Pali', 'Karauli', 'Alwar'])"
   ]
  },
  {
   "cell_type": "code",
   "execution_count": 5,
   "metadata": {},
   "outputs": [
    {
     "name": "stdout",
     "output_type": "stream",
     "text": [
      "distance between Mount Abuand Shekhawati 454.4916113078932\n",
      "distance between Mount Abuand Chittorgarh 179.10535955330576\n",
      "distance between Mount Abuand Pali 132.85470073281996\n",
      "distance between Mount Abuand Virat Nagar 1060.7401802963054\n",
      "distance between Mount Abuand Ranthambore 409.12872567721007\n",
      "distance between Mount Abuand Alwar 516.2426508663602\n"
     ]
    },
    {
     "name": "stderr",
     "output_type": "stream",
     "text": [
      "2021-02-26 14:03:38,824 : WARNING : Retrying (Retry(total=1, connect=None, read=None, redirect=None, status=None)) after connection broken by 'ReadTimeoutError(\"HTTPSConnectionPool(host='nominatim.openstreetmap.org', port=443): Read timed out. (read timeout=1)\")': /search?q=Mount+Abu&format=json&limit=1\n",
      "2021-02-26 14:03:39,839 : WARNING : Retrying (Retry(total=0, connect=None, read=None, redirect=None, status=None)) after connection broken by 'ConnectTimeoutError(<urllib3.connection.HTTPSConnection object at 0x000001F49D00DC40>, 'Connection to nominatim.openstreetmap.org timed out. (connect timeout=1)')': /search?q=Mount+Abu&format=json&limit=1\n"
     ]
    },
    {
     "name": "stdout",
     "output_type": "stream",
     "text": [
      "distance between Mount Abuand Jaipur 404.4816721742949\n",
      "distance between Mount Abuand Ajmer 284.3919589840875\n",
      "distance between Mount Abuand Udaipur 99.07624422894371\n",
      "distance between Mount Abuand Sariska 480.7071377982855\n",
      "distance between Mount Abuand Pushkar 280.41609136707984\n",
      "distance between Mount Abuand Karauli 486.25789810734256\n",
      "distance between Mount Abuand Bundi 330.9906002199232\n"
     ]
    },
    {
     "name": "stderr",
     "output_type": "stream",
     "text": [
      "2021-02-26 14:03:52,030 : WARNING : Retrying (Retry(total=1, connect=None, read=None, redirect=None, status=None)) after connection broken by 'ReadTimeoutError(\"HTTPSConnectionPool(host='nominatim.openstreetmap.org', port=443): Read timed out. (read timeout=1)\")': /search?q=Mount+Abu&format=json&limit=1\n"
     ]
    },
    {
     "name": "stdout",
     "output_type": "stream",
     "text": [
      "distance between Mount Abuand Kota 339.3410586490227\n",
      "distance between Mount Abuand Ranakpur 117.13015639202708\n"
     ]
    },
    {
     "name": "stderr",
     "output_type": "stream",
     "text": [
      "2021-02-26 14:03:56,731 : WARNING : Retrying (Retry(total=1, connect=None, read=None, redirect=None, status=None)) after connection broken by 'ReadTimeoutError(\"HTTPSConnectionPool(host='nominatim.openstreetmap.org', port=443): Read timed out. (read timeout=1)\")': /search?q=Mount+Abu&format=json&limit=1\n"
     ]
    },
    {
     "name": "stdout",
     "output_type": "stream",
     "text": [
      "distance between Mount Abuand Jodhpur 191.6483328694013\n",
      "distance between Mount Abuand Kumbhalgarh 107.69760487513437\n",
      "distance between Mount Abuand Bharatpur 552.8178385937148\n"
     ]
    },
    {
     "name": "stderr",
     "output_type": "stream",
     "text": [
      "2021-02-26 14:04:01,991 : WARNING : Retrying (Retry(total=1, connect=None, read=None, redirect=None, status=None)) after connection broken by 'ConnectTimeoutError(<urllib3.connection.HTTPSConnection object at 0x000001F4A305A4F0>, 'Connection to nominatim.openstreetmap.org timed out. (connect timeout=1)')': /search?q=Mount+Abu&format=json&limit=1\n"
     ]
    },
    {
     "name": "stdout",
     "output_type": "stream",
     "text": [
      "distance between Mount Abuand Bikaner 384.1398962515281\n",
      "distance between Shekhawatiand Chittorgarh 375.76048826008054\n"
     ]
    },
    {
     "name": "stderr",
     "output_type": "stream",
     "text": [
      "2021-02-26 14:04:07,069 : WARNING : Retrying (Retry(total=1, connect=None, read=None, redirect=None, status=None)) after connection broken by 'ReadTimeoutError(\"HTTPSConnectionPool(host='nominatim.openstreetmap.org', port=443): Read timed out. (read timeout=1)\")': /search?q=Pali&format=json&limit=1\n"
     ]
    },
    {
     "name": "stdout",
     "output_type": "stream",
     "text": [
      "distance between Shekhawatiand Pali 321.64169970852964\n",
      "distance between Shekhawatiand Virat Nagar 1291.45276613393\n",
      "distance between Shekhawatiand Ranthambore 260.0429166538065\n"
     ]
    },
    {
     "name": "stderr",
     "output_type": "stream",
     "text": [
      "2021-02-26 14:04:11,655 : WARNING : Retrying (Retry(total=1, connect=None, read=None, redirect=None, status=None)) after connection broken by 'ConnectTimeoutError(<urllib3.connection.HTTPSConnection object at 0x000001F4A3019B50>, 'Connection to nominatim.openstreetmap.org timed out. (connect timeout=1)')': /search?q=Shekhawati&format=json&limit=1\n",
      "2021-02-26 14:04:12,673 : WARNING : Retrying (Retry(total=0, connect=None, read=None, redirect=None, status=None)) after connection broken by 'ConnectTimeoutError(<urllib3.connection.HTTPSConnection object at 0x000001F4A3019250>, 'Connection to nominatim.openstreetmap.org timed out. (connect timeout=1)')': /search?q=Shekhawati&format=json&limit=1\n"
     ]
    },
    {
     "name": "stdout",
     "output_type": "stream",
     "text": [
      "distance between Shekhawatiand Alwar 151.2367739459249\n",
      "distance between Shekhawatiand Jaipur 142.3467532870258\n"
     ]
    },
    {
     "name": "stderr",
     "output_type": "stream",
     "text": [
      "2021-02-26 14:04:16,975 : WARNING : Retrying (Retry(total=1, connect=None, read=None, redirect=None, status=None)) after connection broken by 'ReadTimeoutError(\"HTTPSConnectionPool(host='nominatim.openstreetmap.org', port=443): Read timed out. (read timeout=1)\")': /search?q=Shekhawati&format=json&limit=1\n"
     ]
    },
    {
     "name": "stdout",
     "output_type": "stream",
     "text": [
      "distance between Shekhawatiand Ajmer 182.79780152303738\n",
      "distance between Shekhawatiand Udaipur 411.8765790837895\n",
      "distance between Shekhawatiand Sariska 141.24830684866112\n"
     ]
    },
    {
     "name": "stderr",
     "output_type": "stream",
     "text": [
      "2021-02-26 14:04:22,026 : WARNING : Retrying (Retry(total=1, connect=None, read=None, redirect=None, status=None)) after connection broken by 'ConnectTimeoutError(<urllib3.connection.HTTPSConnection object at 0x000001F4A3019E50>, 'Connection to nominatim.openstreetmap.org timed out. (connect timeout=1)')': /search?q=Shekhawati&format=json&limit=1\n"
     ]
    },
    {
     "name": "stdout",
     "output_type": "stream",
     "text": [
      "distance between Shekhawatiand Pushkar 183.2413834222649\n",
      "distance between Shekhawatiand Karauli 254.20180469255698\n",
      "distance between Shekhawatiand Bundi 290.9755918738927\n"
     ]
    },
    {
     "name": "stderr",
     "output_type": "stream",
     "text": [
      "2021-02-26 14:04:27,044 : WARNING : Retrying (Retry(total=1, connect=None, read=None, redirect=None, status=None)) after connection broken by 'ConnectTimeoutError(<urllib3.connection.HTTPSConnection object at 0x000001F4A305A760>, 'Connection to nominatim.openstreetmap.org timed out. (connect timeout=1)')': /search?q=Shekhawati&format=json&limit=1\n"
     ]
    },
    {
     "name": "stdout",
     "output_type": "stream",
     "text": [
      "distance between Shekhawatiand Kota 327.6531057179047\n",
      "distance between Shekhawatiand Ranakpur 565.7360087147665\n",
      "distance between Shekhawatiand Jodhpur 286.1755841599784\n"
     ]
    },
    {
     "name": "stderr",
     "output_type": "stream",
     "text": [
      "2021-02-26 14:04:32,032 : WARNING : Retrying (Retry(total=1, connect=None, read=None, redirect=None, status=None)) after connection broken by 'ConnectTimeoutError(<urllib3.connection.HTTPSConnection object at 0x000001F4A3051460>, 'Connection to nominatim.openstreetmap.org timed out. (connect timeout=1)')': /search?q=Shekhawati&format=json&limit=1\n"
     ]
    },
    {
     "name": "stdout",
     "output_type": "stream",
     "text": [
      "distance between Shekhawatiand Kumbhalgarh 357.8675031059644\n",
      "distance between Shekhawatiand Bharatpur 235.59610465734596\n",
      "distance between Shekhawatiand Bikaner 180.43978365329525\n",
      "distance between Chittorgarhand Pali 144.84444648581874\n",
      "distance between Chittorgarhand Virat Nagar 975.4661377063999\n",
      "distance between Chittorgarhand Ranthambore 246.22694224904095\n",
      "distance between Chittorgarhand Alwar 388.04501005005824\n"
     ]
    },
    {
     "name": "stderr",
     "output_type": "stream",
     "text": [
      "2021-02-26 14:04:42,553 : WARNING : Retrying (Retry(total=1, connect=None, read=None, redirect=None, status=None)) after connection broken by 'ReadTimeoutError(\"HTTPSConnectionPool(host='nominatim.openstreetmap.org', port=443): Read timed out. (read timeout=1)\")': /search?q=Jaipur&format=json&limit=1\n"
     ]
    },
    {
     "name": "stdout",
     "output_type": "stream",
     "text": [
      "distance between Chittorgarhand Jaipur 278.38680868464513\n",
      "distance between Chittorgarhand Ajmer 194.7099695185254\n",
      "distance between Chittorgarhand Udaipur 81.04235524092852\n"
     ]
    },
    {
     "name": "stderr",
     "output_type": "stream",
     "text": [
      "2021-02-26 14:04:47,573 : WARNING : Retrying (Retry(total=1, connect=None, read=None, redirect=None, status=None)) after connection broken by 'ReadTimeoutError(\"HTTPSConnectionPool(host='nominatim.openstreetmap.org', port=443): Read timed out. (read timeout=1)\")': /search?q=Chittorgarh&format=json&limit=1\n"
     ]
    },
    {
     "name": "stdout",
     "output_type": "stream",
     "text": [
      "distance between Chittorgarhand Sariska 352.289889907695\n",
      "distance between Chittorgarhand Pushkar 196.2310770928921\n"
     ]
    },
    {
     "name": "stderr",
     "output_type": "stream",
     "text": [
      "2021-02-26 14:04:52,175 : WARNING : Retrying (Retry(total=1, connect=None, read=None, redirect=None, status=None)) after connection broken by 'ReadTimeoutError(\"HTTPSConnectionPool(host='nominatim.openstreetmap.org', port=443): Read timed out. (read timeout=1)\")': /search?q=Karauli&format=json&limit=1\n"
     ]
    },
    {
     "name": "stdout",
     "output_type": "stream",
     "text": [
      "distance between Chittorgarhand Karauli 327.3139308877821\n",
      "distance between Chittorgarhand Bundi 162.33147553035624\n",
      "distance between Chittorgarhand Kota 163.2353212912732\n",
      "distance between Chittorgarhand Ranakpur 284.69950365015063\n",
      "distance between Chittorgarhand Jodhpur 226.83808199767986\n",
      "distance between Chittorgarhand Kumbhalgarh 101.68112632241377\n"
     ]
    },
    {
     "name": "stderr",
     "output_type": "stream",
     "text": [
      "2021-02-26 14:05:00,583 : WARNING : Retrying (Retry(total=1, connect=None, read=None, redirect=None, status=None)) after connection broken by 'ReadTimeoutError(\"HTTPSConnectionPool(host='nominatim.openstreetmap.org', port=443): Read timed out. (read timeout=1)\")': /search?q=Chittorgarh&format=json&limit=1\n"
     ]
    },
    {
     "name": "stdout",
     "output_type": "stream",
     "text": [
      "distance between Chittorgarhand Bharatpur 404.65149007692406\n",
      "distance between Chittorgarhand Bikaner 383.131567504725\n"
     ]
    },
    {
     "name": "stderr",
     "output_type": "stream",
     "text": [
      "2021-02-26 14:05:05,621 : WARNING : Retrying (Retry(total=1, connect=None, read=None, redirect=None, status=None)) after connection broken by 'ReadTimeoutError(\"HTTPSConnectionPool(host='nominatim.openstreetmap.org', port=443): Read timed out. (read timeout=1)\")': /search?q=Pali&format=json&limit=1\n"
     ]
    },
    {
     "name": "stdout",
     "output_type": "stream",
     "text": [
      "distance between Paliand Virat Nagar 1113.342493059466\n",
      "distance between Paliand Ranthambore 308.33995616472146\n",
      "distance between Paliand Alwar 390.2459486550245\n"
     ]
    },
    {
     "name": "stderr",
     "output_type": "stream",
     "text": [
      "2021-02-26 14:05:10,743 : WARNING : Retrying (Retry(total=1, connect=None, read=None, redirect=None, status=None)) after connection broken by 'ConnectTimeoutError(<urllib3.connection.HTTPSConnection object at 0x000001F4A3051FA0>, 'Connection to nominatim.openstreetmap.org timed out. (connect timeout=1)')': /search?q=Pali&format=json&limit=1\n"
     ]
    },
    {
     "name": "stdout",
     "output_type": "stream",
     "text": [
      "distance between Paliand Jaipur 280.6160725453025\n",
      "distance between Paliand Ajmer 155.4870010840144\n",
      "distance between Paliand Udaipur 116.81956095522408\n",
      "distance between Paliand Sariska 355.4918801078114\n",
      "distance between Paliand Pushkar 150.49661659996852\n"
     ]
    },
    {
     "name": "stderr",
     "output_type": "stream",
     "text": [
      "2021-02-26 14:05:18,636 : WARNING : Retrying (Retry(total=1, connect=None, read=None, redirect=None, status=None)) after connection broken by 'ReadTimeoutError(\"HTTPSConnectionPool(host='nominatim.openstreetmap.org', port=443): Read timed out. (read timeout=1)\")': /search?q=Pali&format=json&limit=1\n",
      "2021-02-26 14:05:19,653 : WARNING : Retrying (Retry(total=0, connect=None, read=None, redirect=None, status=None)) after connection broken by 'ConnectTimeoutError(<urllib3.connection.HTTPSConnection object at 0x000001F4A30510D0>, 'Connection to nominatim.openstreetmap.org timed out. (connect timeout=1)')': /search?q=Pali&format=json&limit=1\n"
     ]
    },
    {
     "name": "stdout",
     "output_type": "stream",
     "text": [
      "distance between Paliand Karauli 378.20049318930603\n",
      "distance between Paliand Bundi 243.23772785222056\n"
     ]
    },
    {
     "name": "stderr",
     "output_type": "stream",
     "text": [
      "2021-02-26 14:05:23,855 : WARNING : Retrying (Retry(total=1, connect=None, read=None, redirect=None, status=None)) after connection broken by 'ReadTimeoutError(\"HTTPSConnectionPool(host='nominatim.openstreetmap.org', port=443): Read timed out. (read timeout=1)\")': /search?q=Pali&format=json&limit=1\n"
     ]
    },
    {
     "name": "stdout",
     "output_type": "stream",
     "text": [
      "distance between Paliand Kota 264.01095506954937\n",
      "distance between Paliand Ranakpur 246.19717458674955\n",
      "distance between Paliand Jodhpur 85.68079286919875\n",
      "distance between Paliand Kumbhalgarh 53.24597809426537\n",
      "distance between Paliand Bharatpur 435.14602213693433\n",
      "distance between Paliand Bikaner 267.4123922361095\n",
      "distance between Virat Nagarand Ranthambore 1039.3469898916323\n",
      "distance between Virat Nagarand Alwar 1211.467073881646\n"
     ]
    },
    {
     "name": "stderr",
     "output_type": "stream",
     "text": [
      "2021-02-26 14:05:36,358 : WARNING : Retrying (Retry(total=1, connect=None, read=None, redirect=None, status=None)) after connection broken by 'ReadTimeoutError(\"HTTPSConnectionPool(host='nominatim.openstreetmap.org', port=443): Read timed out. (read timeout=1)\")': /search?q=Virat+Nagar&format=json&limit=1\n",
      "2021-02-26 14:05:37,377 : WARNING : Retrying (Retry(total=0, connect=None, read=None, redirect=None, status=None)) after connection broken by 'ConnectTimeoutError(<urllib3.connection.HTTPSConnection object at 0x000001F4A305A5E0>, 'Connection to nominatim.openstreetmap.org timed out. (connect timeout=1)')': /search?q=Virat+Nagar&format=json&limit=1\n"
     ]
    },
    {
     "name": "stdout",
     "output_type": "stream",
     "text": [
      "distance between Virat Nagarand Jaipur 1151.686949792136\n",
      "distance between Virat Nagarand Ajmer 1143.7700409113484\n"
     ]
    },
    {
     "name": "stderr",
     "output_type": "stream",
     "text": [
      "2021-02-26 14:05:41,377 : WARNING : Retrying (Retry(total=1, connect=None, read=None, redirect=None, status=None)) after connection broken by 'ReadTimeoutError(\"HTTPSConnectionPool(host='nominatim.openstreetmap.org', port=443): Read timed out. (read timeout=1)\")': /search?q=Virat+Nagar&format=json&limit=1\n",
      "2021-02-26 14:05:42,396 : WARNING : Retrying (Retry(total=0, connect=None, read=None, redirect=None, status=None)) after connection broken by 'ConnectTimeoutError(<urllib3.connection.HTTPSConnection object at 0x000001F4A3019E50>, 'Connection to nominatim.openstreetmap.org timed out. (connect timeout=1)')': /search?q=Virat+Nagar&format=json&limit=1\n"
     ]
    },
    {
     "name": "stdout",
     "output_type": "stream",
     "text": [
      "distance between Virat Nagarand Udaipur 1002.4154631013545\n",
      "distance between Virat Nagarand Sariska 1189.4920779695508\n",
      "distance between Virat Nagarand Pushkar 1148.8080894900818\n",
      "distance between Virat Nagarand Karauli 1081.2290414286038\n",
      "distance between Virat Nagarand Bundi 1001.302989441012\n",
      "distance between Virat Nagarand Kota 964.1474048933737\n",
      "distance between Virat Nagarand Ranakpur 1066.9507804532584\n"
     ]
    },
    {
     "name": "stderr",
     "output_type": "stream",
     "text": [
      "2021-02-26 14:05:54,259 : WARNING : Retrying (Retry(total=1, connect=None, read=None, redirect=None, status=None)) after connection broken by 'ReadTimeoutError(\"HTTPSConnectionPool(host='nominatim.openstreetmap.org', port=443): Read timed out. (read timeout=1)\")': /search?q=Jodhpur&format=json&limit=1\n",
      "2021-02-26 14:05:55,266 : WARNING : Retrying (Retry(total=0, connect=None, read=None, redirect=None, status=None)) after connection broken by 'ConnectTimeoutError(<urllib3.connection.HTTPSConnection object at 0x000001F4A305A1C0>, 'Connection to nominatim.openstreetmap.org timed out. (connect timeout=1)')': /search?q=Jodhpur&format=json&limit=1\n"
     ]
    },
    {
     "name": "stdout",
     "output_type": "stream",
     "text": [
      "distance between Virat Nagarand Jodhpur 1198.770605352464\n",
      "distance between Virat Nagarand Kumbhalgarh 1061.4077110566589\n"
     ]
    },
    {
     "name": "stderr",
     "output_type": "stream",
     "text": [
      "2021-02-26 14:05:59,421 : WARNING : Retrying (Retry(total=1, connect=None, read=None, redirect=None, status=None)) after connection broken by 'ReadTimeoutError(\"HTTPSConnectionPool(host='nominatim.openstreetmap.org', port=443): Read timed out. (read timeout=1)\")': /search?q=Virat+Nagar&format=json&limit=1\n"
     ]
    },
    {
     "name": "stdout",
     "output_type": "stream",
     "text": [
      "distance between Virat Nagarand Bharatpur 1158.6615283932006\n",
      "distance between Virat Nagarand Bikaner 1353.7316297675447\n"
     ]
    },
    {
     "name": "stderr",
     "output_type": "stream",
     "text": [
      "2021-02-26 14:06:04,170 : WARNING : Retrying (Retry(total=1, connect=None, read=None, redirect=None, status=None)) after connection broken by 'ReadTimeoutError(\"HTTPSConnectionPool(host='nominatim.openstreetmap.org', port=443): Read timed out. (read timeout=1)\")': /search?q=Alwar&format=json&limit=1\n",
      "2021-02-26 14:06:05,188 : WARNING : Retrying (Retry(total=0, connect=None, read=None, redirect=None, status=None)) after connection broken by 'ConnectTimeoutError(<urllib3.connection.HTTPSConnection object at 0x000001F4A30512E0>, 'Connection to nominatim.openstreetmap.org timed out. (connect timeout=1)')': /search?q=Alwar&format=json&limit=1\n"
     ]
    },
    {
     "name": "stdout",
     "output_type": "stream",
     "text": [
      "distance between Ranthamboreand Alwar 180.25974482961453\n",
      "distance between Ranthamboreand Jaipur 117.9714977129366\n"
     ]
    },
    {
     "name": "stderr",
     "output_type": "stream",
     "text": [
      "2021-02-26 14:06:09,308 : WARNING : Retrying (Retry(total=1, connect=None, read=None, redirect=None, status=None)) after connection broken by 'ReadTimeoutError(\"HTTPSConnectionPool(host='nominatim.openstreetmap.org', port=443): Read timed out. (read timeout=1)\")': /search?q=Ranthambore&format=json&limit=1\n"
     ]
    },
    {
     "name": "stdout",
     "output_type": "stream",
     "text": [
      "distance between Ranthamboreand Ajmer 188.3065318095346\n",
      "distance between Ranthamboreand Udaipur 321.3136222716238\n"
     ]
    },
    {
     "name": "stderr",
     "output_type": "stream",
     "text": [
      "2021-02-26 14:06:14,277 : WARNING : Retrying (Retry(total=1, connect=None, read=None, redirect=None, status=None)) after connection broken by 'ReadTimeoutError(\"HTTPSConnectionPool(host='nominatim.openstreetmap.org', port=443): Read timed out. (read timeout=1)\")': /search?q=Sariska&format=json&limit=1\n",
      "2021-02-26 14:06:15,291 : WARNING : Retrying (Retry(total=0, connect=None, read=None, redirect=None, status=None)) after connection broken by 'ConnectTimeoutError(<urllib3.connection.HTTPSConnection object at 0x000001F4A305AB80>, 'Connection to nominatim.openstreetmap.org timed out. (connect timeout=1)')': /search?q=Sariska&format=json&limit=1\n"
     ]
    },
    {
     "name": "stdout",
     "output_type": "stream",
     "text": [
      "distance between Ranthamboreand Sariska 152.4829217188165\n",
      "distance between Ranthamboreand Pushkar 196.65431081102594\n"
     ]
    },
    {
     "name": "stderr",
     "output_type": "stream",
     "text": [
      "2021-02-26 14:06:19,210 : WARNING : Retrying (Retry(total=1, connect=None, read=None, redirect=None, status=None)) after connection broken by 'ReadTimeoutError(\"HTTPSConnectionPool(host='nominatim.openstreetmap.org', port=443): Read timed out. (read timeout=1)\")': /search?q=Karauli&format=json&limit=1\n",
      "2021-02-26 14:06:20,230 : WARNING : Retrying (Retry(total=0, connect=None, read=None, redirect=None, status=None)) after connection broken by 'ConnectTimeoutError(<urllib3.connection.HTTPSConnection object at 0x000001F4A3019E50>, 'Connection to nominatim.openstreetmap.org timed out. (connect timeout=1)')': /search?q=Karauli&format=json&limit=1\n"
     ]
    },
    {
     "name": "stdout",
     "output_type": "stream",
     "text": [
      "distance between Ranthamboreand Karauli 81.58930686734105\n",
      "distance between Ranthamboreand Bundi 84.87675088563125\n"
     ]
    },
    {
     "name": "stderr",
     "output_type": "stream",
     "text": [
      "2021-02-26 14:06:24,459 : WARNING : Retrying (Retry(total=1, connect=None, read=None, redirect=None, status=None)) after connection broken by 'ReadTimeoutError(\"HTTPSConnectionPool(host='nominatim.openstreetmap.org', port=443): Read timed out. (read timeout=1)\")': /search?q=Kota&format=json&limit=1\n"
     ]
    },
    {
     "name": "stdout",
     "output_type": "stream",
     "text": [
      "distance between Ranthamboreand Kota 101.8642149114722\n",
      "distance between Ranthamboreand Ranakpur 523.4889631536953\n",
      "distance between Ranthamboreand Jodhpur 343.4379240953161\n"
     ]
    },
    {
     "name": "stderr",
     "output_type": "stream",
     "text": [
      "2021-02-26 14:06:29,468 : WARNING : Retrying (Retry(total=1, connect=None, read=None, redirect=None, status=None)) after connection broken by 'ReadTimeoutError(\"HTTPSConnectionPool(host='nominatim.openstreetmap.org', port=443): Read timed out. (read timeout=1)\")': /search?q=Ranthambore&format=json&limit=1\n"
     ]
    },
    {
     "name": "stdout",
     "output_type": "stream",
     "text": [
      "distance between Ranthamboreand Kumbhalgarh 304.3667264062954\n",
      "distance between Ranthamboreand Bharatpur 165.35974983363684\n",
      "distance between Ranthamboreand Bikaner 382.1227266391237\n"
     ]
    },
    {
     "name": "stderr",
     "output_type": "stream",
     "text": [
      "2021-02-26 14:06:34,400 : WARNING : Retrying (Retry(total=1, connect=None, read=None, redirect=None, status=None)) after connection broken by 'ConnectTimeoutError(<urllib3.connection.HTTPSConnection object at 0x000001F4A3051160>, 'Connection to nominatim.openstreetmap.org timed out. (connect timeout=1)')': /search?q=Alwar&format=json&limit=1\n"
     ]
    },
    {
     "name": "stdout",
     "output_type": "stream",
     "text": [
      "distance between Alwarand Jaipur 112.39311177231865\n",
      "distance between Alwarand Ajmer 234.97007444271813\n",
      "distance between Alwarand Udaipur 448.00340579392633\n",
      "distance between Alwarand Sariska 36.03765400376055\n",
      "distance between Alwarand Pushkar 240.6151860751558\n",
      "distance between Alwarand Karauli 131.90944054827048\n"
     ]
    },
    {
     "name": "stderr",
     "output_type": "stream",
     "text": [
      "2021-02-26 14:06:45,000 : WARNING : Retrying (Retry(total=1, connect=None, read=None, redirect=None, status=None)) after connection broken by 'ReadTimeoutError(\"HTTPSConnectionPool(host='nominatim.openstreetmap.org', port=443): Read timed out. (read timeout=1)\")': /search?q=Alwar&format=json&limit=1\n"
     ]
    },
    {
     "name": "stdout",
     "output_type": "stream",
     "text": [
      "distance between Alwarand Bundi 249.45059270701407\n",
      "distance between Alwarand Kota 277.42294999536557\n"
     ]
    },
    {
     "name": "stderr",
     "output_type": "stream",
     "text": [
      "2021-02-26 14:06:49,965 : WARNING : Retrying (Retry(total=1, connect=None, read=None, redirect=None, status=None)) after connection broken by 'ReadTimeoutError(\"HTTPSConnectionPool(host='nominatim.openstreetmap.org', port=443): Read timed out. (read timeout=1)\")': /search?q=Ranakpur&format=json&limit=1\n"
     ]
    },
    {
     "name": "stdout",
     "output_type": "stream",
     "text": [
      "distance between Alwarand Ranakpur 633.1377688614065\n",
      "distance between Alwarand Jodhpur 385.209569118952\n"
     ]
    },
    {
     "name": "stderr",
     "output_type": "stream",
     "text": [
      "2021-02-26 14:06:54,412 : WARNING : Retrying (Retry(total=1, connect=None, read=None, redirect=None, status=None)) after connection broken by 'ReadTimeoutError(\"HTTPSConnectionPool(host='nominatim.openstreetmap.org', port=443): Read timed out. (read timeout=1)\")': /search?q=Kumbhalgarh&format=json&limit=1\n"
     ]
    },
    {
     "name": "stdout",
     "output_type": "stream",
     "text": [
      "distance between Alwarand Kumbhalgarh 409.45489858770816\n",
      "distance between Alwarand Bharatpur 85.33382801179145\n",
      "distance between Alwarand Bikaner 327.50776667824545\n",
      "distance between Jaipurand Ajmer 127.42404626715202\n"
     ]
    },
    {
     "name": "stderr",
     "output_type": "stream",
     "text": [
      "2021-02-26 14:07:03,049 : WARNING : Retrying (Retry(total=1, connect=None, read=None, redirect=None, status=None)) after connection broken by 'ReadTimeoutError(\"HTTPSConnectionPool(host='nominatim.openstreetmap.org', port=443): Read timed out. (read timeout=1)\")': /search?q=Jaipur&format=json&limit=1\n"
     ]
    },
    {
     "name": "stdout",
     "output_type": "stream",
     "text": [
      "distance between Jaipurand Udaipur 335.84314367721026\n",
      "distance between Jaipurand Sariska 76.47556213883662\n"
     ]
    },
    {
     "name": "stderr",
     "output_type": "stream",
     "text": [
      "2021-02-26 14:07:07,849 : WARNING : Retrying (Retry(total=1, connect=None, read=None, redirect=None, status=None)) after connection broken by 'ReadTimeoutError(\"HTTPSConnectionPool(host='nominatim.openstreetmap.org', port=443): Read timed out. (read timeout=1)\")': /search?q=Jaipur&format=json&limit=1\n",
      "2021-02-26 14:07:08,866 : WARNING : Retrying (Retry(total=0, connect=None, read=None, redirect=None, status=None)) after connection broken by 'ConnectTimeoutError(<urllib3.connection.HTTPSConnection object at 0x000001F4A30515B0>, 'Connection to nominatim.openstreetmap.org timed out. (connect timeout=1)')': /search?q=Jaipur&format=json&limit=1\n"
     ]
    },
    {
     "name": "stdout",
     "output_type": "stream",
     "text": [
      "distance between Jaipurand Pushkar 134.1545403701824\n",
      "distance between Jaipurand Karauli 130.93818492061638\n"
     ]
    },
    {
     "name": "stderr",
     "output_type": "stream",
     "text": [
      "2021-02-26 14:07:13,031 : WARNING : Retrying (Retry(total=1, connect=None, read=None, redirect=None, status=None)) after connection broken by 'ReadTimeoutError(\"HTTPSConnectionPool(host='nominatim.openstreetmap.org', port=443): Read timed out. (read timeout=1)\")': /search?q=Jaipur&format=json&limit=1\n"
     ]
    },
    {
     "name": "stdout",
     "output_type": "stream",
     "text": [
      "distance between Jaipurand Bundi 156.82683108616297\n",
      "distance between Jaipurand Kota 191.2734685205865\n",
      "distance between Jaipurand Ranakpur 521.5235276964003\n",
      "distance between Jaipurand Jodhpur 285.60616692437384\n",
      "distance between Jaipurand Kumbhalgarh 297.37361069902\n",
      "distance between Jaipurand Bharatpur 158.5443558287012\n",
      "distance between Jaipurand Bikaner 275.71161405997066\n",
      "distance between Ajmerand Udaipur 230.27327530974284\n"
     ]
    },
    {
     "name": "stderr",
     "output_type": "stream",
     "text": [
      "2021-02-26 14:07:25,799 : WARNING : Retrying (Retry(total=1, connect=None, read=None, redirect=None, status=None)) after connection broken by 'ReadTimeoutError(\"HTTPSConnectionPool(host='nominatim.openstreetmap.org', port=443): Read timed out. (read timeout=1)\")': /search?q=Ajmer&format=json&limit=1\n",
      "2021-02-26 14:07:26,802 : WARNING : Retrying (Retry(total=0, connect=None, read=None, redirect=None, status=None)) after connection broken by 'ConnectTimeoutError(<urllib3.connection.HTTPSConnection object at 0x000001F4A3019F10>, 'Connection to nominatim.openstreetmap.org timed out. (connect timeout=1)')': /search?q=Ajmer&format=json&limit=1\n"
     ]
    },
    {
     "name": "stdout",
     "output_type": "stream",
     "text": [
      "distance between Ajmerand Sariska 200.6062951262389\n",
      "distance between Ajmerand Pushkar 8.348386443184962\n",
      "distance between Ajmerand Karauli 241.19227495921533\n",
      "distance between Ajmerand Bundi 160.71121021866398\n",
      "distance between Ajmerand Kota 196.23706181000102\n",
      "distance between Ajmerand Ranakpur 400.32615080497743\n",
      "distance between Ajmerand Jodhpur 161.18396528163805\n"
     ]
    },
    {
     "name": "stderr",
     "output_type": "stream",
     "text": [
      "2021-02-26 14:07:39,124 : WARNING : Retrying (Retry(total=1, connect=None, read=None, redirect=None, status=None)) after connection broken by 'ConnectTimeoutError(<urllib3.connection.HTTPSConnection object at 0x000001F4A3051190>, 'Connection to nominatim.openstreetmap.org timed out. (connect timeout=1)')': /search?q=Ajmer&format=json&limit=1\n"
     ]
    },
    {
     "name": "stdout",
     "output_type": "stream",
     "text": [
      "distance between Ajmerand Kumbhalgarh 180.65774966134356\n",
      "distance between Ajmerand Bharatpur 285.2676976315579\n"
     ]
    },
    {
     "name": "stderr",
     "output_type": "stream",
     "text": [
      "2021-02-26 14:07:43,371 : WARNING : Retrying (Retry(total=1, connect=None, read=None, redirect=None, status=None)) after connection broken by 'ReadTimeoutError(\"HTTPSConnectionPool(host='nominatim.openstreetmap.org', port=443): Read timed out. (read timeout=1)\")': /search?q=Bikaner&format=json&limit=1\n",
      "2021-02-26 14:07:44,381 : WARNING : Retrying (Retry(total=0, connect=None, read=None, redirect=None, status=None)) after connection broken by 'ConnectTimeoutError(<urllib3.connection.HTTPSConnection object at 0x000001F4A30197C0>, 'Connection to nominatim.openstreetmap.org timed out. (connect timeout=1)')': /search?q=Bikaner&format=json&limit=1\n"
     ]
    },
    {
     "name": "stdout",
     "output_type": "stream",
     "text": [
      "distance between Ajmerand Bikaner 215.67491795175437\n",
      "distance between Udaipurand Sariska 411.96838397773735\n",
      "distance between Udaipurand Pushkar 228.89708556787585\n",
      "distance between Udaipurand Karauli 401.08625093267716\n",
      "distance between Udaipurand Bundi 239.50312815409123\n"
     ]
    },
    {
     "name": "stderr",
     "output_type": "stream",
     "text": [
      "2021-02-26 14:07:52,187 : WARNING : Retrying (Retry(total=1, connect=None, read=None, redirect=None, status=None)) after connection broken by 'ReadTimeoutError(\"HTTPSConnectionPool(host='nominatim.openstreetmap.org', port=443): Read timed out. (read timeout=1)\")': /search?q=Udaipur&format=json&limit=1\n"
     ]
    },
    {
     "name": "stdout",
     "output_type": "stream",
     "text": [
      "distance between Udaipurand Kota 243.6862779019217\n",
      "distance between Udaipurand Ranakpur 204.3112975800905\n",
      "distance between Udaipurand Jodhpur 201.277445653922\n"
     ]
    },
    {
     "name": "stderr",
     "output_type": "stream",
     "text": [
      "2021-02-26 14:07:57,322 : WARNING : Retrying (Retry(total=1, connect=None, read=None, redirect=None, status=None)) after connection broken by 'ConnectTimeoutError(<urllib3.connection.HTTPSConnection object at 0x000001F4A305ABE0>, 'Connection to nominatim.openstreetmap.org timed out. (connect timeout=1)')': /search?q=Udaipur&format=json&limit=1\n"
     ]
    },
    {
     "name": "stdout",
     "output_type": "stream",
     "text": [
      "distance between Udaipurand Kumbhalgarh 63.92705235074212\n",
      "distance between Udaipurand Bharatpur 473.988522669315\n"
     ]
    },
    {
     "name": "stderr",
     "output_type": "stream",
     "text": [
      "2021-02-26 14:08:01,657 : WARNING : Retrying (Retry(total=1, connect=None, read=None, redirect=None, status=None)) after connection broken by 'ReadTimeoutError(\"HTTPSConnectionPool(host='nominatim.openstreetmap.org', port=443): Read timed out. (read timeout=1)\")': /search?q=Bikaner&format=json&limit=1\n",
      "2021-02-26 14:08:02,671 : WARNING : Retrying (Retry(total=0, connect=None, read=None, redirect=None, status=None)) after connection broken by 'ConnectTimeoutError(<urllib3.connection.HTTPSConnection object at 0x000001F4A3051940>, 'Connection to nominatim.openstreetmap.org timed out. (connect timeout=1)')': /search?q=Bikaner&format=json&limit=1\n"
     ]
    },
    {
     "name": "stdout",
     "output_type": "stream",
     "text": [
      "distance between Udaipurand Bikaner 382.5967325984108\n",
      "distance between Sariskaand Pushkar 206.56044449465222\n",
      "distance between Sariskaand Karauli 118.32223686787408\n"
     ]
    },
    {
     "name": "stderr",
     "output_type": "stream",
     "text": [
      "2021-02-26 14:08:07,117 : WARNING : Retrying (Retry(total=1, connect=None, read=None, redirect=None, status=None)) after connection broken by 'ReadTimeoutError(\"HTTPSConnectionPool(host='nominatim.openstreetmap.org', port=443): Read timed out. (read timeout=1)\")': /search?q=Sariska&format=json&limit=1\n",
      "2021-02-26 14:08:08,127 : WARNING : Retrying (Retry(total=0, connect=None, read=None, redirect=None, status=None)) after connection broken by 'ConnectTimeoutError(<urllib3.connection.HTTPSConnection object at 0x000001F4A30193A0>, 'Connection to nominatim.openstreetmap.org timed out. (connect timeout=1)')': /search?q=Sariska&format=json&limit=1\n"
     ]
    },
    {
     "name": "stdout",
     "output_type": "stream",
     "text": [
      "distance between Sariskaand Bundi 216.58375510610173\n",
      "distance between Sariskaand Kota 246.16144035869067\n"
     ]
    },
    {
     "name": "stderr",
     "output_type": "stream",
     "text": [
      "2021-02-26 14:08:11,846 : WARNING : Retrying (Retry(total=1, connect=None, read=None, redirect=None, status=None)) after connection broken by 'ConnectTimeoutError(<urllib3.connection.HTTPSConnection object at 0x000001F4A305A4C0>, 'Connection to nominatim.openstreetmap.org timed out. (connect timeout=1)')': /search?q=Sariska&format=json&limit=1\n",
      "2021-02-26 14:08:12,861 : WARNING : Retrying (Retry(total=0, connect=None, read=None, redirect=None, status=None)) after connection broken by 'ConnectTimeoutError(<urllib3.connection.HTTPSConnection object at 0x000001F4A305AA30>, 'Connection to nominatim.openstreetmap.org timed out. (connect timeout=1)')': /search?q=Sariska&format=json&limit=1\n"
     ]
    },
    {
     "name": "stdout",
     "output_type": "stream",
     "text": [
      "distance between Sariskaand Ranakpur 597.6782073069379\n",
      "distance between Sariskaand Jodhpur 353.57070656532426\n"
     ]
    },
    {
     "name": "stderr",
     "output_type": "stream",
     "text": [
      "2021-02-26 14:08:17,078 : WARNING : Retrying (Retry(total=1, connect=None, read=None, redirect=None, status=None)) after connection broken by 'ReadTimeoutError(\"HTTPSConnectionPool(host='nominatim.openstreetmap.org', port=443): Read timed out. (read timeout=1)\")': /search?q=Sariska&format=json&limit=1\n",
      "2021-02-26 14:08:18,083 : WARNING : Retrying (Retry(total=0, connect=None, read=None, redirect=None, status=None)) after connection broken by 'ConnectTimeoutError(<urllib3.connection.HTTPSConnection object at 0x000001F4A3019DF0>, 'Connection to nominatim.openstreetmap.org timed out. (connect timeout=1)')': /search?q=Sariska&format=json&limit=1\n"
     ]
    },
    {
     "name": "stdout",
     "output_type": "stream",
     "text": [
      "distance between Sariskaand Kumbhalgarh 373.75470352692\n",
      "distance between Sariskaand Bharatpur 99.26331681149851\n"
     ]
    },
    {
     "name": "stderr",
     "output_type": "stream",
     "text": [
      "2021-02-26 14:08:22,202 : WARNING : Retrying (Retry(total=1, connect=None, read=None, redirect=None, status=None)) after connection broken by 'ReadTimeoutError(\"HTTPSConnectionPool(host='nominatim.openstreetmap.org', port=443): Read timed out. (read timeout=1)\")': /search?q=Sariska&format=json&limit=1\n"
     ]
    },
    {
     "name": "stdout",
     "output_type": "stream",
     "text": [
      "distance between Sariskaand Bikaner 309.5161708794357\n",
      "distance between Pushkarand Karauli 249.22555764277212\n"
     ]
    },
    {
     "name": "stderr",
     "output_type": "stream",
     "text": [
      "2021-02-26 14:08:27,088 : WARNING : Retrying (Retry(total=1, connect=None, read=None, redirect=None, status=None)) after connection broken by 'ReadTimeoutError(\"HTTPSConnectionPool(host='nominatim.openstreetmap.org', port=443): Read timed out. (read timeout=1)\")': /search?q=Bundi&format=json&limit=1\n",
      "2021-02-26 14:08:28,104 : WARNING : Retrying (Retry(total=0, connect=None, read=None, redirect=None, status=None)) after connection broken by 'ConnectTimeoutError(<urllib3.connection.HTTPSConnection object at 0x000001F4A305A5E0>, 'Connection to nominatim.openstreetmap.org timed out. (connect timeout=1)')': /search?q=Bundi&format=json&limit=1\n"
     ]
    },
    {
     "name": "stdout",
     "output_type": "stream",
     "text": [
      "distance between Pushkarand Bundi 168.1678251362925\n",
      "distance between Pushkarand Kota 203.41346333315863\n"
     ]
    },
    {
     "name": "stderr",
     "output_type": "stream",
     "text": [
      "2021-02-26 14:08:32,189 : WARNING : Retrying (Retry(total=1, connect=None, read=None, redirect=None, status=None)) after connection broken by 'ReadTimeoutError(\"HTTPSConnectionPool(host='nominatim.openstreetmap.org', port=443): Read timed out. (read timeout=1)\")': /search?q=Ranakpur&format=json&limit=1\n"
     ]
    },
    {
     "name": "stdout",
     "output_type": "stream",
     "text": [
      "distance between Pushkarand Ranakpur 395.96307192875275\n",
      "distance between Pushkarand Jodhpur 153.40364589269154\n",
      "distance between Pushkarand Kumbhalgarh 177.71850990027937\n",
      "distance between Pushkarand Bharatpur 292.3128498042217\n",
      "distance between Pushkarand Bikaner 209.22086940810635\n",
      "distance between Karauliand Bundi 166.46559911347998\n"
     ]
    },
    {
     "name": "stderr",
     "output_type": "stream",
     "text": [
      "2021-02-26 14:08:41,826 : WARNING : Retrying (Retry(total=1, connect=None, read=None, redirect=None, status=None)) after connection broken by 'ReadTimeoutError(\"HTTPSConnectionPool(host='nominatim.openstreetmap.org', port=443): Read timed out. (read timeout=1)\")': /search?q=Kota&format=json&limit=1\n",
      "2021-02-26 14:08:42,844 : WARNING : Retrying (Retry(total=0, connect=None, read=None, redirect=None, status=None)) after connection broken by 'ConnectTimeoutError(<urllib3.connection.HTTPSConnection object at 0x000001F4A30197C0>, 'Connection to nominatim.openstreetmap.org timed out. (connect timeout=1)')': /search?q=Kota&format=json&limit=1\n"
     ]
    },
    {
     "name": "stdout",
     "output_type": "stream",
     "text": [
      "distance between Karauliand Kota 180.56080413370978\n",
      "distance between Karauliand Ranakpur 601.7359775284872\n"
     ]
    },
    {
     "name": "stderr",
     "output_type": "stream",
     "text": [
      "2021-02-26 14:08:46,913 : WARNING : Retrying (Retry(total=1, connect=None, read=None, redirect=None, status=None)) after connection broken by 'ReadTimeoutError(\"HTTPSConnectionPool(host='nominatim.openstreetmap.org', port=443): Read timed out. (read timeout=1)\")': /search?q=Jodhpur&format=json&limit=1\n"
     ]
    },
    {
     "name": "stdout",
     "output_type": "stream",
     "text": [
      "distance between Karauliand Jodhpur 402.05741531441936\n",
      "distance between Karauliand Kumbhalgarh 379.9410660088403\n",
      "distance between Karauliand Bharatpur 88.52067867214679\n",
      "distance between Karauliand Bikaner 405.9134299820639\n",
      "distance between Bundiand Kota 37.582705219151904\n",
      "distance between Bundiand Ranakpur 443.2246315159657\n"
     ]
    },
    {
     "name": "stderr",
     "output_type": "stream",
     "text": [
      "2021-02-26 14:08:55,575 : WARNING : Retrying (Retry(total=1, connect=None, read=None, redirect=None, status=None)) after connection broken by 'ConnectTimeoutError(<urllib3.connection.HTTPSConnection object at 0x000001F4A30192B0>, 'Connection to nominatim.openstreetmap.org timed out. (connect timeout=1)')': /search?q=Bundi&format=json&limit=1\n"
     ]
    },
    {
     "name": "stdout",
     "output_type": "stream",
     "text": [
      "distance between Bundiand Jodhpur 293.9467192080121\n",
      "distance between Bundiand Kumbhalgarh 229.92371680726777\n",
      "distance between Bundiand Bharatpur 248.46366884247453\n",
      "distance between Bundiand Bikaner 374.6045349265186\n",
      "distance between Kotaand Ranakpur 447.8509094943914\n",
      "distance between Kotaand Jodhpur 321.5296217387895\n",
      "distance between Kotaand Kumbhalgarh 243.82677089667934\n"
     ]
    },
    {
     "name": "stderr",
     "output_type": "stream",
     "text": [
      "2021-02-26 14:09:08,353 : WARNING : Retrying (Retry(total=1, connect=None, read=None, redirect=None, status=None)) after connection broken by 'ReadTimeoutError(\"HTTPSConnectionPool(host='nominatim.openstreetmap.org', port=443): Read timed out. (read timeout=1)\")': /search?q=Kota&format=json&limit=1\n"
     ]
    },
    {
     "name": "stdout",
     "output_type": "stream",
     "text": [
      "distance between Kotaand Bharatpur 266.8363732050709\n",
      "distance between Kotaand Bikaner 411.07437559099003\n"
     ]
    },
    {
     "name": "stderr",
     "output_type": "stream",
     "text": [
      "2021-02-26 14:09:13,359 : WARNING : Retrying (Retry(total=1, connect=None, read=None, redirect=None, status=None)) after connection broken by 'ReadTimeoutError(\"HTTPSConnectionPool(host='nominatim.openstreetmap.org', port=443): Read timed out. (read timeout=1)\")': /search?q=Jodhpur&format=json&limit=1\n"
     ]
    },
    {
     "name": "stdout",
     "output_type": "stream",
     "text": [
      "distance between Ranakpurand Jodhpur 289.0100041673879\n",
      "distance between Ranakpurand Kumbhalgarh 224.76934633732014\n",
      "distance between Ranakpurand Bharatpur 669.680034627456\n",
      "distance between Ranakpurand Bikaner 476.11525509951264\n",
      "distance between Jodhpurand Kumbhalgarh 138.61686900425732\n"
     ]
    },
    {
     "name": "stderr",
     "output_type": "stream",
     "text": [
      "2021-02-26 14:09:21,459 : WARNING : Retrying (Retry(total=1, connect=None, read=None, redirect=None, status=None)) after connection broken by 'ReadTimeoutError(\"HTTPSConnectionPool(host='nominatim.openstreetmap.org', port=443): Read timed out. (read timeout=1)\")': /search?q=Bharatpur&format=json&limit=1\n",
      "2021-02-26 14:09:22,479 : WARNING : Retrying (Retry(total=0, connect=None, read=None, redirect=None, status=None)) after connection broken by 'ConnectTimeoutError(<urllib3.connection.HTTPSConnection object at 0x000001F4A3019FA0>, 'Connection to nominatim.openstreetmap.org timed out. (connect timeout=1)')': /search?q=Bharatpur&format=json&limit=1\n"
     ]
    },
    {
     "name": "stdout",
     "output_type": "stream",
     "text": [
      "distance between Jodhpurand Bharatpur 444.12663492394915\n",
      "distance between Jodhpurand Bikaner 192.53228035499112\n",
      "distance between Kumbhalgarhand Bharatpur 445.175761364644\n",
      "distance between Kumbhalgarhand Bikaner 318.8517675157842\n",
      "distance between Bharatpurand Bikaner 408.4148185666955\n"
     ]
    }
   ],
   "source": [
    "t.make_distances()"
   ]
  },
  {
   "cell_type": "code",
   "execution_count": 6,
   "metadata": {},
   "outputs": [
    {
     "data": {
      "text/html": [
       "<div>\n",
       "<style scoped>\n",
       "    .dataframe tbody tr th:only-of-type {\n",
       "        vertical-align: middle;\n",
       "    }\n",
       "\n",
       "    .dataframe tbody tr th {\n",
       "        vertical-align: top;\n",
       "    }\n",
       "\n",
       "    .dataframe thead th {\n",
       "        text-align: right;\n",
       "    }\n",
       "</style>\n",
       "<table border=\"1\" class=\"dataframe\">\n",
       "  <thead>\n",
       "    <tr style=\"text-align: right;\">\n",
       "      <th></th>\n",
       "      <th>Mount Abu</th>\n",
       "      <th>Shekhawati</th>\n",
       "      <th>Chittorgarh</th>\n",
       "      <th>Pali</th>\n",
       "      <th>Virat Nagar</th>\n",
       "      <th>Ranthambore</th>\n",
       "      <th>Alwar</th>\n",
       "      <th>Jaipur</th>\n",
       "      <th>Ajmer</th>\n",
       "      <th>Udaipur</th>\n",
       "      <th>Sariska</th>\n",
       "      <th>Pushkar</th>\n",
       "      <th>Karauli</th>\n",
       "      <th>Bundi</th>\n",
       "      <th>Kota</th>\n",
       "      <th>Ranakpur</th>\n",
       "      <th>Jodhpur</th>\n",
       "      <th>Kumbhalgarh</th>\n",
       "      <th>Bharatpur</th>\n",
       "      <th>Bikaner</th>\n",
       "    </tr>\n",
       "  </thead>\n",
       "  <tbody>\n",
       "    <tr>\n",
       "      <th>Mount Abu</th>\n",
       "      <td>0.0</td>\n",
       "      <td>NaN</td>\n",
       "      <td>NaN</td>\n",
       "      <td>NaN</td>\n",
       "      <td>NaN</td>\n",
       "      <td>NaN</td>\n",
       "      <td>NaN</td>\n",
       "      <td>NaN</td>\n",
       "      <td>NaN</td>\n",
       "      <td>NaN</td>\n",
       "      <td>NaN</td>\n",
       "      <td>NaN</td>\n",
       "      <td>NaN</td>\n",
       "      <td>NaN</td>\n",
       "      <td>NaN</td>\n",
       "      <td>NaN</td>\n",
       "      <td>NaN</td>\n",
       "      <td>NaN</td>\n",
       "      <td>NaN</td>\n",
       "      <td>NaN</td>\n",
       "    </tr>\n",
       "    <tr>\n",
       "      <th>Shekhawati</th>\n",
       "      <td>NaN</td>\n",
       "      <td>0.0</td>\n",
       "      <td>NaN</td>\n",
       "      <td>NaN</td>\n",
       "      <td>NaN</td>\n",
       "      <td>NaN</td>\n",
       "      <td>NaN</td>\n",
       "      <td>NaN</td>\n",
       "      <td>NaN</td>\n",
       "      <td>NaN</td>\n",
       "      <td>NaN</td>\n",
       "      <td>NaN</td>\n",
       "      <td>NaN</td>\n",
       "      <td>NaN</td>\n",
       "      <td>NaN</td>\n",
       "      <td>NaN</td>\n",
       "      <td>NaN</td>\n",
       "      <td>NaN</td>\n",
       "      <td>NaN</td>\n",
       "      <td>NaN</td>\n",
       "    </tr>\n",
       "    <tr>\n",
       "      <th>Chittorgarh</th>\n",
       "      <td>NaN</td>\n",
       "      <td>NaN</td>\n",
       "      <td>0.0</td>\n",
       "      <td>NaN</td>\n",
       "      <td>NaN</td>\n",
       "      <td>NaN</td>\n",
       "      <td>NaN</td>\n",
       "      <td>NaN</td>\n",
       "      <td>NaN</td>\n",
       "      <td>NaN</td>\n",
       "      <td>NaN</td>\n",
       "      <td>NaN</td>\n",
       "      <td>NaN</td>\n",
       "      <td>NaN</td>\n",
       "      <td>NaN</td>\n",
       "      <td>NaN</td>\n",
       "      <td>NaN</td>\n",
       "      <td>NaN</td>\n",
       "      <td>NaN</td>\n",
       "      <td>NaN</td>\n",
       "    </tr>\n",
       "    <tr>\n",
       "      <th>Pali</th>\n",
       "      <td>NaN</td>\n",
       "      <td>NaN</td>\n",
       "      <td>NaN</td>\n",
       "      <td>0.0</td>\n",
       "      <td>NaN</td>\n",
       "      <td>NaN</td>\n",
       "      <td>NaN</td>\n",
       "      <td>NaN</td>\n",
       "      <td>NaN</td>\n",
       "      <td>NaN</td>\n",
       "      <td>NaN</td>\n",
       "      <td>NaN</td>\n",
       "      <td>NaN</td>\n",
       "      <td>NaN</td>\n",
       "      <td>NaN</td>\n",
       "      <td>NaN</td>\n",
       "      <td>NaN</td>\n",
       "      <td>NaN</td>\n",
       "      <td>NaN</td>\n",
       "      <td>NaN</td>\n",
       "    </tr>\n",
       "    <tr>\n",
       "      <th>Virat Nagar</th>\n",
       "      <td>NaN</td>\n",
       "      <td>NaN</td>\n",
       "      <td>NaN</td>\n",
       "      <td>NaN</td>\n",
       "      <td>0.0</td>\n",
       "      <td>NaN</td>\n",
       "      <td>NaN</td>\n",
       "      <td>NaN</td>\n",
       "      <td>NaN</td>\n",
       "      <td>NaN</td>\n",
       "      <td>NaN</td>\n",
       "      <td>NaN</td>\n",
       "      <td>NaN</td>\n",
       "      <td>NaN</td>\n",
       "      <td>NaN</td>\n",
       "      <td>NaN</td>\n",
       "      <td>NaN</td>\n",
       "      <td>NaN</td>\n",
       "      <td>NaN</td>\n",
       "      <td>NaN</td>\n",
       "    </tr>\n",
       "    <tr>\n",
       "      <th>Ranthambore</th>\n",
       "      <td>NaN</td>\n",
       "      <td>NaN</td>\n",
       "      <td>NaN</td>\n",
       "      <td>NaN</td>\n",
       "      <td>NaN</td>\n",
       "      <td>0.0</td>\n",
       "      <td>NaN</td>\n",
       "      <td>NaN</td>\n",
       "      <td>NaN</td>\n",
       "      <td>NaN</td>\n",
       "      <td>NaN</td>\n",
       "      <td>NaN</td>\n",
       "      <td>NaN</td>\n",
       "      <td>NaN</td>\n",
       "      <td>NaN</td>\n",
       "      <td>NaN</td>\n",
       "      <td>NaN</td>\n",
       "      <td>NaN</td>\n",
       "      <td>NaN</td>\n",
       "      <td>NaN</td>\n",
       "    </tr>\n",
       "    <tr>\n",
       "      <th>Alwar</th>\n",
       "      <td>NaN</td>\n",
       "      <td>NaN</td>\n",
       "      <td>NaN</td>\n",
       "      <td>NaN</td>\n",
       "      <td>NaN</td>\n",
       "      <td>NaN</td>\n",
       "      <td>0.0</td>\n",
       "      <td>NaN</td>\n",
       "      <td>NaN</td>\n",
       "      <td>NaN</td>\n",
       "      <td>NaN</td>\n",
       "      <td>NaN</td>\n",
       "      <td>NaN</td>\n",
       "      <td>NaN</td>\n",
       "      <td>NaN</td>\n",
       "      <td>NaN</td>\n",
       "      <td>NaN</td>\n",
       "      <td>NaN</td>\n",
       "      <td>NaN</td>\n",
       "      <td>NaN</td>\n",
       "    </tr>\n",
       "    <tr>\n",
       "      <th>Jaipur</th>\n",
       "      <td>NaN</td>\n",
       "      <td>NaN</td>\n",
       "      <td>NaN</td>\n",
       "      <td>NaN</td>\n",
       "      <td>NaN</td>\n",
       "      <td>NaN</td>\n",
       "      <td>NaN</td>\n",
       "      <td>0.0</td>\n",
       "      <td>NaN</td>\n",
       "      <td>NaN</td>\n",
       "      <td>NaN</td>\n",
       "      <td>NaN</td>\n",
       "      <td>NaN</td>\n",
       "      <td>NaN</td>\n",
       "      <td>NaN</td>\n",
       "      <td>NaN</td>\n",
       "      <td>NaN</td>\n",
       "      <td>NaN</td>\n",
       "      <td>NaN</td>\n",
       "      <td>NaN</td>\n",
       "    </tr>\n",
       "    <tr>\n",
       "      <th>Ajmer</th>\n",
       "      <td>NaN</td>\n",
       "      <td>NaN</td>\n",
       "      <td>NaN</td>\n",
       "      <td>NaN</td>\n",
       "      <td>NaN</td>\n",
       "      <td>NaN</td>\n",
       "      <td>NaN</td>\n",
       "      <td>NaN</td>\n",
       "      <td>0.0</td>\n",
       "      <td>NaN</td>\n",
       "      <td>NaN</td>\n",
       "      <td>NaN</td>\n",
       "      <td>NaN</td>\n",
       "      <td>NaN</td>\n",
       "      <td>NaN</td>\n",
       "      <td>NaN</td>\n",
       "      <td>NaN</td>\n",
       "      <td>NaN</td>\n",
       "      <td>NaN</td>\n",
       "      <td>NaN</td>\n",
       "    </tr>\n",
       "    <tr>\n",
       "      <th>Udaipur</th>\n",
       "      <td>NaN</td>\n",
       "      <td>NaN</td>\n",
       "      <td>NaN</td>\n",
       "      <td>NaN</td>\n",
       "      <td>NaN</td>\n",
       "      <td>NaN</td>\n",
       "      <td>NaN</td>\n",
       "      <td>NaN</td>\n",
       "      <td>NaN</td>\n",
       "      <td>0.0</td>\n",
       "      <td>NaN</td>\n",
       "      <td>NaN</td>\n",
       "      <td>NaN</td>\n",
       "      <td>NaN</td>\n",
       "      <td>NaN</td>\n",
       "      <td>NaN</td>\n",
       "      <td>NaN</td>\n",
       "      <td>NaN</td>\n",
       "      <td>NaN</td>\n",
       "      <td>NaN</td>\n",
       "    </tr>\n",
       "    <tr>\n",
       "      <th>Sariska</th>\n",
       "      <td>NaN</td>\n",
       "      <td>NaN</td>\n",
       "      <td>NaN</td>\n",
       "      <td>NaN</td>\n",
       "      <td>NaN</td>\n",
       "      <td>NaN</td>\n",
       "      <td>NaN</td>\n",
       "      <td>NaN</td>\n",
       "      <td>NaN</td>\n",
       "      <td>NaN</td>\n",
       "      <td>0.0</td>\n",
       "      <td>NaN</td>\n",
       "      <td>NaN</td>\n",
       "      <td>NaN</td>\n",
       "      <td>NaN</td>\n",
       "      <td>NaN</td>\n",
       "      <td>NaN</td>\n",
       "      <td>NaN</td>\n",
       "      <td>NaN</td>\n",
       "      <td>NaN</td>\n",
       "    </tr>\n",
       "    <tr>\n",
       "      <th>Pushkar</th>\n",
       "      <td>NaN</td>\n",
       "      <td>NaN</td>\n",
       "      <td>NaN</td>\n",
       "      <td>NaN</td>\n",
       "      <td>NaN</td>\n",
       "      <td>NaN</td>\n",
       "      <td>NaN</td>\n",
       "      <td>NaN</td>\n",
       "      <td>NaN</td>\n",
       "      <td>NaN</td>\n",
       "      <td>NaN</td>\n",
       "      <td>0.0</td>\n",
       "      <td>NaN</td>\n",
       "      <td>NaN</td>\n",
       "      <td>NaN</td>\n",
       "      <td>NaN</td>\n",
       "      <td>NaN</td>\n",
       "      <td>NaN</td>\n",
       "      <td>NaN</td>\n",
       "      <td>NaN</td>\n",
       "    </tr>\n",
       "    <tr>\n",
       "      <th>Karauli</th>\n",
       "      <td>NaN</td>\n",
       "      <td>NaN</td>\n",
       "      <td>NaN</td>\n",
       "      <td>NaN</td>\n",
       "      <td>NaN</td>\n",
       "      <td>NaN</td>\n",
       "      <td>NaN</td>\n",
       "      <td>NaN</td>\n",
       "      <td>NaN</td>\n",
       "      <td>NaN</td>\n",
       "      <td>NaN</td>\n",
       "      <td>NaN</td>\n",
       "      <td>0.0</td>\n",
       "      <td>NaN</td>\n",
       "      <td>NaN</td>\n",
       "      <td>NaN</td>\n",
       "      <td>NaN</td>\n",
       "      <td>NaN</td>\n",
       "      <td>NaN</td>\n",
       "      <td>NaN</td>\n",
       "    </tr>\n",
       "    <tr>\n",
       "      <th>Bundi</th>\n",
       "      <td>NaN</td>\n",
       "      <td>NaN</td>\n",
       "      <td>NaN</td>\n",
       "      <td>NaN</td>\n",
       "      <td>NaN</td>\n",
       "      <td>NaN</td>\n",
       "      <td>NaN</td>\n",
       "      <td>NaN</td>\n",
       "      <td>NaN</td>\n",
       "      <td>NaN</td>\n",
       "      <td>NaN</td>\n",
       "      <td>NaN</td>\n",
       "      <td>NaN</td>\n",
       "      <td>0.0</td>\n",
       "      <td>NaN</td>\n",
       "      <td>NaN</td>\n",
       "      <td>NaN</td>\n",
       "      <td>NaN</td>\n",
       "      <td>NaN</td>\n",
       "      <td>NaN</td>\n",
       "    </tr>\n",
       "    <tr>\n",
       "      <th>Kota</th>\n",
       "      <td>NaN</td>\n",
       "      <td>NaN</td>\n",
       "      <td>NaN</td>\n",
       "      <td>NaN</td>\n",
       "      <td>NaN</td>\n",
       "      <td>NaN</td>\n",
       "      <td>NaN</td>\n",
       "      <td>NaN</td>\n",
       "      <td>NaN</td>\n",
       "      <td>NaN</td>\n",
       "      <td>NaN</td>\n",
       "      <td>NaN</td>\n",
       "      <td>NaN</td>\n",
       "      <td>NaN</td>\n",
       "      <td>0.0</td>\n",
       "      <td>NaN</td>\n",
       "      <td>NaN</td>\n",
       "      <td>NaN</td>\n",
       "      <td>NaN</td>\n",
       "      <td>NaN</td>\n",
       "    </tr>\n",
       "    <tr>\n",
       "      <th>Ranakpur</th>\n",
       "      <td>NaN</td>\n",
       "      <td>NaN</td>\n",
       "      <td>NaN</td>\n",
       "      <td>NaN</td>\n",
       "      <td>NaN</td>\n",
       "      <td>NaN</td>\n",
       "      <td>NaN</td>\n",
       "      <td>NaN</td>\n",
       "      <td>NaN</td>\n",
       "      <td>NaN</td>\n",
       "      <td>NaN</td>\n",
       "      <td>NaN</td>\n",
       "      <td>NaN</td>\n",
       "      <td>NaN</td>\n",
       "      <td>NaN</td>\n",
       "      <td>0.0</td>\n",
       "      <td>NaN</td>\n",
       "      <td>NaN</td>\n",
       "      <td>NaN</td>\n",
       "      <td>NaN</td>\n",
       "    </tr>\n",
       "    <tr>\n",
       "      <th>Jodhpur</th>\n",
       "      <td>NaN</td>\n",
       "      <td>NaN</td>\n",
       "      <td>NaN</td>\n",
       "      <td>NaN</td>\n",
       "      <td>NaN</td>\n",
       "      <td>NaN</td>\n",
       "      <td>NaN</td>\n",
       "      <td>NaN</td>\n",
       "      <td>NaN</td>\n",
       "      <td>NaN</td>\n",
       "      <td>NaN</td>\n",
       "      <td>NaN</td>\n",
       "      <td>NaN</td>\n",
       "      <td>NaN</td>\n",
       "      <td>NaN</td>\n",
       "      <td>NaN</td>\n",
       "      <td>0.0</td>\n",
       "      <td>NaN</td>\n",
       "      <td>NaN</td>\n",
       "      <td>NaN</td>\n",
       "    </tr>\n",
       "    <tr>\n",
       "      <th>Kumbhalgarh</th>\n",
       "      <td>NaN</td>\n",
       "      <td>NaN</td>\n",
       "      <td>NaN</td>\n",
       "      <td>NaN</td>\n",
       "      <td>NaN</td>\n",
       "      <td>NaN</td>\n",
       "      <td>NaN</td>\n",
       "      <td>NaN</td>\n",
       "      <td>NaN</td>\n",
       "      <td>NaN</td>\n",
       "      <td>NaN</td>\n",
       "      <td>NaN</td>\n",
       "      <td>NaN</td>\n",
       "      <td>NaN</td>\n",
       "      <td>NaN</td>\n",
       "      <td>NaN</td>\n",
       "      <td>NaN</td>\n",
       "      <td>0.0</td>\n",
       "      <td>NaN</td>\n",
       "      <td>NaN</td>\n",
       "    </tr>\n",
       "    <tr>\n",
       "      <th>Bharatpur</th>\n",
       "      <td>NaN</td>\n",
       "      <td>NaN</td>\n",
       "      <td>NaN</td>\n",
       "      <td>NaN</td>\n",
       "      <td>NaN</td>\n",
       "      <td>NaN</td>\n",
       "      <td>NaN</td>\n",
       "      <td>NaN</td>\n",
       "      <td>NaN</td>\n",
       "      <td>NaN</td>\n",
       "      <td>NaN</td>\n",
       "      <td>NaN</td>\n",
       "      <td>NaN</td>\n",
       "      <td>NaN</td>\n",
       "      <td>NaN</td>\n",
       "      <td>NaN</td>\n",
       "      <td>NaN</td>\n",
       "      <td>NaN</td>\n",
       "      <td>0.0</td>\n",
       "      <td>NaN</td>\n",
       "    </tr>\n",
       "    <tr>\n",
       "      <th>Bikaner</th>\n",
       "      <td>NaN</td>\n",
       "      <td>NaN</td>\n",
       "      <td>NaN</td>\n",
       "      <td>NaN</td>\n",
       "      <td>NaN</td>\n",
       "      <td>NaN</td>\n",
       "      <td>NaN</td>\n",
       "      <td>NaN</td>\n",
       "      <td>NaN</td>\n",
       "      <td>NaN</td>\n",
       "      <td>NaN</td>\n",
       "      <td>NaN</td>\n",
       "      <td>NaN</td>\n",
       "      <td>NaN</td>\n",
       "      <td>NaN</td>\n",
       "      <td>NaN</td>\n",
       "      <td>NaN</td>\n",
       "      <td>NaN</td>\n",
       "      <td>NaN</td>\n",
       "      <td>0.0</td>\n",
       "    </tr>\n",
       "  </tbody>\n",
       "</table>\n",
       "</div>"
      ],
      "text/plain": [
       "             Mount Abu  Shekhawati  Chittorgarh  Pali  Virat Nagar  \\\n",
       "Mount Abu          0.0         NaN          NaN   NaN          NaN   \n",
       "Shekhawati         NaN         0.0          NaN   NaN          NaN   \n",
       "Chittorgarh        NaN         NaN          0.0   NaN          NaN   \n",
       "Pali               NaN         NaN          NaN   0.0          NaN   \n",
       "Virat Nagar        NaN         NaN          NaN   NaN          0.0   \n",
       "Ranthambore        NaN         NaN          NaN   NaN          NaN   \n",
       "Alwar              NaN         NaN          NaN   NaN          NaN   \n",
       "Jaipur             NaN         NaN          NaN   NaN          NaN   \n",
       "Ajmer              NaN         NaN          NaN   NaN          NaN   \n",
       "Udaipur            NaN         NaN          NaN   NaN          NaN   \n",
       "Sariska            NaN         NaN          NaN   NaN          NaN   \n",
       "Pushkar            NaN         NaN          NaN   NaN          NaN   \n",
       "Karauli            NaN         NaN          NaN   NaN          NaN   \n",
       "Bundi              NaN         NaN          NaN   NaN          NaN   \n",
       "Kota               NaN         NaN          NaN   NaN          NaN   \n",
       "Ranakpur           NaN         NaN          NaN   NaN          NaN   \n",
       "Jodhpur            NaN         NaN          NaN   NaN          NaN   \n",
       "Kumbhalgarh        NaN         NaN          NaN   NaN          NaN   \n",
       "Bharatpur          NaN         NaN          NaN   NaN          NaN   \n",
       "Bikaner            NaN         NaN          NaN   NaN          NaN   \n",
       "\n",
       "             Ranthambore  Alwar  Jaipur  Ajmer  Udaipur  Sariska  Pushkar  \\\n",
       "Mount Abu            NaN    NaN     NaN    NaN      NaN      NaN      NaN   \n",
       "Shekhawati           NaN    NaN     NaN    NaN      NaN      NaN      NaN   \n",
       "Chittorgarh          NaN    NaN     NaN    NaN      NaN      NaN      NaN   \n",
       "Pali                 NaN    NaN     NaN    NaN      NaN      NaN      NaN   \n",
       "Virat Nagar          NaN    NaN     NaN    NaN      NaN      NaN      NaN   \n",
       "Ranthambore          0.0    NaN     NaN    NaN      NaN      NaN      NaN   \n",
       "Alwar                NaN    0.0     NaN    NaN      NaN      NaN      NaN   \n",
       "Jaipur               NaN    NaN     0.0    NaN      NaN      NaN      NaN   \n",
       "Ajmer                NaN    NaN     NaN    0.0      NaN      NaN      NaN   \n",
       "Udaipur              NaN    NaN     NaN    NaN      0.0      NaN      NaN   \n",
       "Sariska              NaN    NaN     NaN    NaN      NaN      0.0      NaN   \n",
       "Pushkar              NaN    NaN     NaN    NaN      NaN      NaN      0.0   \n",
       "Karauli              NaN    NaN     NaN    NaN      NaN      NaN      NaN   \n",
       "Bundi                NaN    NaN     NaN    NaN      NaN      NaN      NaN   \n",
       "Kota                 NaN    NaN     NaN    NaN      NaN      NaN      NaN   \n",
       "Ranakpur             NaN    NaN     NaN    NaN      NaN      NaN      NaN   \n",
       "Jodhpur              NaN    NaN     NaN    NaN      NaN      NaN      NaN   \n",
       "Kumbhalgarh          NaN    NaN     NaN    NaN      NaN      NaN      NaN   \n",
       "Bharatpur            NaN    NaN     NaN    NaN      NaN      NaN      NaN   \n",
       "Bikaner              NaN    NaN     NaN    NaN      NaN      NaN      NaN   \n",
       "\n",
       "             Karauli  Bundi  Kota  Ranakpur  Jodhpur  Kumbhalgarh  Bharatpur  \\\n",
       "Mount Abu        NaN    NaN   NaN       NaN      NaN          NaN        NaN   \n",
       "Shekhawati       NaN    NaN   NaN       NaN      NaN          NaN        NaN   \n",
       "Chittorgarh      NaN    NaN   NaN       NaN      NaN          NaN        NaN   \n",
       "Pali             NaN    NaN   NaN       NaN      NaN          NaN        NaN   \n",
       "Virat Nagar      NaN    NaN   NaN       NaN      NaN          NaN        NaN   \n",
       "Ranthambore      NaN    NaN   NaN       NaN      NaN          NaN        NaN   \n",
       "Alwar            NaN    NaN   NaN       NaN      NaN          NaN        NaN   \n",
       "Jaipur           NaN    NaN   NaN       NaN      NaN          NaN        NaN   \n",
       "Ajmer            NaN    NaN   NaN       NaN      NaN          NaN        NaN   \n",
       "Udaipur          NaN    NaN   NaN       NaN      NaN          NaN        NaN   \n",
       "Sariska          NaN    NaN   NaN       NaN      NaN          NaN        NaN   \n",
       "Pushkar          NaN    NaN   NaN       NaN      NaN          NaN        NaN   \n",
       "Karauli          0.0    NaN   NaN       NaN      NaN          NaN        NaN   \n",
       "Bundi            NaN    0.0   NaN       NaN      NaN          NaN        NaN   \n",
       "Kota             NaN    NaN   0.0       NaN      NaN          NaN        NaN   \n",
       "Ranakpur         NaN    NaN   NaN       0.0      NaN          NaN        NaN   \n",
       "Jodhpur          NaN    NaN   NaN       NaN      0.0          NaN        NaN   \n",
       "Kumbhalgarh      NaN    NaN   NaN       NaN      NaN          0.0        NaN   \n",
       "Bharatpur        NaN    NaN   NaN       NaN      NaN          NaN        0.0   \n",
       "Bikaner          NaN    NaN   NaN       NaN      NaN          NaN        NaN   \n",
       "\n",
       "             Bikaner  \n",
       "Mount Abu        NaN  \n",
       "Shekhawati       NaN  \n",
       "Chittorgarh      NaN  \n",
       "Pali             NaN  \n",
       "Virat Nagar      NaN  \n",
       "Ranthambore      NaN  \n",
       "Alwar            NaN  \n",
       "Jaipur           NaN  \n",
       "Ajmer            NaN  \n",
       "Udaipur          NaN  \n",
       "Sariska          NaN  \n",
       "Pushkar          NaN  \n",
       "Karauli          NaN  \n",
       "Bundi            NaN  \n",
       "Kota             NaN  \n",
       "Ranakpur         NaN  \n",
       "Jodhpur          NaN  \n",
       "Kumbhalgarh      NaN  \n",
       "Bharatpur        NaN  \n",
       "Bikaner          0.0  "
      ]
     },
     "execution_count": 6,
     "metadata": {},
     "output_type": "execute_result"
    }
   ],
   "source": [
    "t.distances"
   ]
  },
  {
   "cell_type": "code",
   "execution_count": 7,
   "metadata": {},
   "outputs": [
    {
     "name": "stderr",
     "output_type": "stream",
     "text": [
      "2021-02-26 14:10:38,246 : WARNING : Retrying (Retry(total=1, connect=None, read=None, redirect=None, status=None)) after connection broken by 'ReadTimeoutError(\"HTTPSConnectionPool(host='nominatim.openstreetmap.org', port=443): Read timed out. (read timeout=1)\")': /search?q=Shekhawati&format=json&limit=1\n",
      "2021-02-26 14:10:42,780 : WARNING : Retrying (Retry(total=1, connect=None, read=None, redirect=None, status=None)) after connection broken by 'ConnectTimeoutError(<urllib3.connection.HTTPSConnection object at 0x000001F4A30878E0>, 'Connection to nominatim.openstreetmap.org timed out. (connect timeout=1)')': /search?q=Virat+Nagar&format=json&limit=1\n",
      "2021-02-26 14:10:51,319 : WARNING : Retrying (Retry(total=1, connect=None, read=None, redirect=None, status=None)) after connection broken by 'ReadTimeoutError(\"HTTPSConnectionPool(host='nominatim.openstreetmap.org', port=443): Read timed out. (read timeout=1)\")': /search?q=Pushkar&format=json&limit=1\n",
      "2021-02-26 14:10:56,370 : WARNING : Retrying (Retry(total=1, connect=None, read=None, redirect=None, status=None)) after connection broken by 'ReadTimeoutError(\"HTTPSConnectionPool(host='nominatim.openstreetmap.org', port=443): Read timed out. (read timeout=1)\")': /search?q=Ranakpur&format=json&limit=1\n",
      "2021-02-26 14:11:01,491 : WARNING : Retrying (Retry(total=1, connect=None, read=None, redirect=None, status=None)) after connection broken by 'ConnectTimeoutError(<urllib3.connection.HTTPSConnection object at 0x000001F4A3089F40>, 'Connection to nominatim.openstreetmap.org timed out. (connect timeout=1)')': /search?q=Bikaner&format=json&limit=1\n"
     ]
    }
   ],
   "source": [
    "t.make_latlong()"
   ]
  },
  {
   "cell_type": "code",
   "execution_count": 8,
   "metadata": {},
   "outputs": [
    {
     "data": {
      "text/html": [
       "<div>\n",
       "<style scoped>\n",
       "    .dataframe tbody tr th:only-of-type {\n",
       "        vertical-align: middle;\n",
       "    }\n",
       "\n",
       "    .dataframe tbody tr th {\n",
       "        vertical-align: top;\n",
       "    }\n",
       "\n",
       "    .dataframe thead th {\n",
       "        text-align: right;\n",
       "    }\n",
       "</style>\n",
       "<table border=\"1\" class=\"dataframe\">\n",
       "  <thead>\n",
       "    <tr style=\"text-align: right;\">\n",
       "      <th></th>\n",
       "      <th>latitude</th>\n",
       "      <th>longitude</th>\n",
       "    </tr>\n",
       "    <tr>\n",
       "      <th>0</th>\n",
       "      <th></th>\n",
       "      <th></th>\n",
       "    </tr>\n",
       "  </thead>\n",
       "  <tbody>\n",
       "    <tr>\n",
       "      <th>Mount Abu</th>\n",
       "      <td>24.592433</td>\n",
       "      <td>72.708188</td>\n",
       "    </tr>\n",
       "    <tr>\n",
       "      <th>Shekhawati</th>\n",
       "      <td>28.053891</td>\n",
       "      <td>75.151696</td>\n",
       "    </tr>\n",
       "    <tr>\n",
       "      <th>Chittorgarh</th>\n",
       "      <td>24.718026</td>\n",
       "      <td>74.472147</td>\n",
       "    </tr>\n",
       "    <tr>\n",
       "      <th>Pali</th>\n",
       "      <td>25.604091</td>\n",
       "      <td>73.415609</td>\n",
       "    </tr>\n",
       "    <tr>\n",
       "      <th>Virat Nagar</th>\n",
       "      <td>16.882033</td>\n",
       "      <td>78.760461</td>\n",
       "    </tr>\n",
       "    <tr>\n",
       "      <th>Ranthambore</th>\n",
       "      <td>26.018395</td>\n",
       "      <td>76.456306</td>\n",
       "    </tr>\n",
       "    <tr>\n",
       "      <th>Alwar</th>\n",
       "      <td>27.639077</td>\n",
       "      <td>76.614452</td>\n",
       "    </tr>\n",
       "    <tr>\n",
       "      <th>Jaipur</th>\n",
       "      <td>26.915458</td>\n",
       "      <td>75.818982</td>\n",
       "    </tr>\n",
       "    <tr>\n",
       "      <th>Ajmer</th>\n",
       "      <td>26.469100</td>\n",
       "      <td>74.639000</td>\n",
       "    </tr>\n",
       "    <tr>\n",
       "      <th>Udaipur</th>\n",
       "      <td>24.578721</td>\n",
       "      <td>73.686257</td>\n",
       "    </tr>\n",
       "    <tr>\n",
       "      <th>Sariska</th>\n",
       "      <td>27.392731</td>\n",
       "      <td>76.376317</td>\n",
       "    </tr>\n",
       "    <tr>\n",
       "      <th>Pushkar</th>\n",
       "      <td>26.487647</td>\n",
       "      <td>74.557848</td>\n",
       "    </tr>\n",
       "    <tr>\n",
       "      <th>Karauli</th>\n",
       "      <td>26.516681</td>\n",
       "      <td>77.057730</td>\n",
       "    </tr>\n",
       "    <tr>\n",
       "      <th>Bundi</th>\n",
       "      <td>25.500000</td>\n",
       "      <td>75.833333</td>\n",
       "    </tr>\n",
       "    <tr>\n",
       "      <th>Kota</th>\n",
       "      <td>25.196826</td>\n",
       "      <td>76.000893</td>\n",
       "    </tr>\n",
       "    <tr>\n",
       "      <th>Ranakpur</th>\n",
       "      <td>23.943721</td>\n",
       "      <td>71.797184</td>\n",
       "    </tr>\n",
       "    <tr>\n",
       "      <th>Jodhpur</th>\n",
       "      <td>26.296772</td>\n",
       "      <td>73.035143</td>\n",
       "    </tr>\n",
       "    <tr>\n",
       "      <th>Kumbhalgarh</th>\n",
       "      <td>25.148053</td>\n",
       "      <td>73.582748</td>\n",
       "    </tr>\n",
       "    <tr>\n",
       "      <th>Bharatpur</th>\n",
       "      <td>27.265212</td>\n",
       "      <td>77.369126</td>\n",
       "    </tr>\n",
       "    <tr>\n",
       "      <th>Bikaner</th>\n",
       "      <td>28.015929</td>\n",
       "      <td>73.317137</td>\n",
       "    </tr>\n",
       "  </tbody>\n",
       "</table>\n",
       "</div>"
      ],
      "text/plain": [
       "              latitude  longitude\n",
       "0                                \n",
       "Mount Abu    24.592433  72.708188\n",
       "Shekhawati   28.053891  75.151696\n",
       "Chittorgarh  24.718026  74.472147\n",
       "Pali         25.604091  73.415609\n",
       "Virat Nagar  16.882033  78.760461\n",
       "Ranthambore  26.018395  76.456306\n",
       "Alwar        27.639077  76.614452\n",
       "Jaipur       26.915458  75.818982\n",
       "Ajmer        26.469100  74.639000\n",
       "Udaipur      24.578721  73.686257\n",
       "Sariska      27.392731  76.376317\n",
       "Pushkar      26.487647  74.557848\n",
       "Karauli      26.516681  77.057730\n",
       "Bundi        25.500000  75.833333\n",
       "Kota         25.196826  76.000893\n",
       "Ranakpur     23.943721  71.797184\n",
       "Jodhpur      26.296772  73.035143\n",
       "Kumbhalgarh  25.148053  73.582748\n",
       "Bharatpur    27.265212  77.369126\n",
       "Bikaner      28.015929  73.317137"
      ]
     },
     "execution_count": 8,
     "metadata": {},
     "output_type": "execute_result"
    }
   ],
   "source": [
    "t.latlong"
   ]
  },
  {
   "cell_type": "code",
   "execution_count": 10,
   "metadata": {},
   "outputs": [
    {
     "ename": "AttributeError",
     "evalue": "'SimulatedAnnealing' object has no attribute 'state_evolution'",
     "output_type": "error",
     "traceback": [
      "\u001b[1;31m---------------------------------------------------------------------------\u001b[0m",
      "\u001b[1;31mAttributeError\u001b[0m                            Traceback (most recent call last)",
      "\u001b[1;32m<ipython-input-10-77c7b98f4a7e>\u001b[0m in \u001b[0;36m<module>\u001b[1;34m\u001b[0m\n\u001b[1;32m----> 1\u001b[1;33m \u001b[0mt\u001b[0m\u001b[1;33m.\u001b[0m\u001b[0manneal\u001b[0m\u001b[1;33m(\u001b[0m\u001b[1;33m)\u001b[0m\u001b[1;33m\u001b[0m\u001b[1;33m\u001b[0m\u001b[0m\n\u001b[0m",
      "\u001b[1;32m<ipython-input-2-0870fad29b14>\u001b[0m in \u001b[0;36manneal\u001b[1;34m(self)\u001b[0m\n\u001b[0;32m    117\u001b[0m         \u001b[1;32massert\u001b[0m \u001b[0mself\u001b[0m\u001b[1;33m.\u001b[0m\u001b[0mdistances\u001b[0m \u001b[1;32mis\u001b[0m \u001b[1;32mnot\u001b[0m \u001b[1;32mNone\u001b[0m\u001b[1;33m,\u001b[0m\u001b[1;34m'Distance file is not present'\u001b[0m\u001b[1;33m\u001b[0m\u001b[1;33m\u001b[0m\u001b[0m\n\u001b[0;32m    118\u001b[0m         \u001b[1;32massert\u001b[0m \u001b[0mself\u001b[0m\u001b[1;33m.\u001b[0m\u001b[0mtrip\u001b[0m \u001b[1;32mis\u001b[0m \u001b[1;32mnot\u001b[0m \u001b[1;32mNone\u001b[0m\u001b[1;33m,\u001b[0m\u001b[1;34m'problem is not defined, run self.define_problem()'\u001b[0m\u001b[1;33m\u001b[0m\u001b[1;33m\u001b[0m\u001b[0m\n\u001b[1;32m--> 119\u001b[1;33m         \u001b[0mself\u001b[0m\u001b[1;33m.\u001b[0m\u001b[0mstate_evolution\u001b[0m\u001b[1;33m.\u001b[0m\u001b[0mappend\u001b[0m\u001b[1;33m(\u001b[0m\u001b[0mself\u001b[0m\u001b[1;33m.\u001b[0m\u001b[0mtrip\u001b[0m\u001b[1;33m)\u001b[0m \u001b[1;31m#state_evolution only serves to follow up on the states chosen\u001b[0m\u001b[1;33m\u001b[0m\u001b[1;33m\u001b[0m\u001b[0m\n\u001b[0m\u001b[0;32m    120\u001b[0m         \u001b[0mT\u001b[0m \u001b[1;33m=\u001b[0m \u001b[0mself\u001b[0m\u001b[1;33m.\u001b[0m\u001b[0mtemperature_initial\u001b[0m\u001b[1;33m\u001b[0m\u001b[1;33m\u001b[0m\u001b[0m\n\u001b[0;32m    121\u001b[0m         \u001b[1;32mwhile\u001b[0m \u001b[0mT\u001b[0m \u001b[1;33m>\u001b[0m \u001b[0mself\u001b[0m\u001b[1;33m.\u001b[0m\u001b[0mtemperture_terminal\u001b[0m\u001b[1;33m:\u001b[0m\u001b[1;33m\u001b[0m\u001b[1;33m\u001b[0m\u001b[0m\n",
      "\u001b[1;31mAttributeError\u001b[0m: 'SimulatedAnnealing' object has no attribute 'state_evolution'"
     ]
    }
   ],
   "source": [
    "t.anneal()"
   ]
  },
  {
   "cell_type": "code",
   "execution_count": 11,
   "metadata": {},
   "outputs": [
    {
     "ename": "AttributeError",
     "evalue": "'SimulatedAnnealing' object has no attribute 'state_evolution'",
     "output_type": "error",
     "traceback": [
      "\u001b[1;31m---------------------------------------------------------------------------\u001b[0m",
      "\u001b[1;31mAttributeError\u001b[0m                            Traceback (most recent call last)",
      "\u001b[1;32m<ipython-input-11-5240faa11046>\u001b[0m in \u001b[0;36m<module>\u001b[1;34m\u001b[0m\n\u001b[1;32m----> 1\u001b[1;33m \u001b[0mt\u001b[0m\u001b[1;33m.\u001b[0m\u001b[0menergypath\u001b[0m\u001b[1;33m(\u001b[0m\u001b[1;33m)\u001b[0m\u001b[1;33m\u001b[0m\u001b[1;33m\u001b[0m\u001b[0m\n\u001b[0m",
      "\u001b[1;32m<ipython-input-2-0870fad29b14>\u001b[0m in \u001b[0;36menergypath\u001b[1;34m(self)\u001b[0m\n\u001b[0;32m    132\u001b[0m \u001b[1;33m\u001b[0m\u001b[0m\n\u001b[0;32m    133\u001b[0m     \u001b[1;32mdef\u001b[0m \u001b[0menergypath\u001b[0m\u001b[1;33m(\u001b[0m\u001b[0mself\u001b[0m\u001b[1;33m)\u001b[0m\u001b[1;33m:\u001b[0m\u001b[1;33m\u001b[0m\u001b[1;33m\u001b[0m\u001b[0m\n\u001b[1;32m--> 134\u001b[1;33m                            \u001b[1;32mfor\u001b[0m \u001b[0mn\u001b[0m \u001b[1;32min\u001b[0m \u001b[0mrange\u001b[0m\u001b[1;33m(\u001b[0m\u001b[0mlen\u001b[0m\u001b[1;33m(\u001b[0m\u001b[0mself\u001b[0m\u001b[1;33m.\u001b[0m\u001b[0mstate_evolution\u001b[0m\u001b[1;33m)\u001b[0m\u001b[1;33m)\u001b[0m\u001b[1;33m:\u001b[0m\u001b[1;33m\u001b[0m\u001b[1;33m\u001b[0m\u001b[0m\n\u001b[0m\u001b[0;32m    135\u001b[0m                                 \u001b[0mprint\u001b[0m\u001b[1;33m(\u001b[0m\u001b[0mself\u001b[0m\u001b[1;33m.\u001b[0m\u001b[0mstate_evolution\u001b[0m\u001b[1;33m[\u001b[0m\u001b[0mn\u001b[0m\u001b[1;33m]\u001b[0m\u001b[1;33m,\u001b[0m\u001b[1;34m\"Distance:\"\u001b[0m\u001b[1;33m,\u001b[0m \u001b[0mself\u001b[0m\u001b[1;33m.\u001b[0m\u001b[0mjourney_distance\u001b[0m\u001b[1;33m(\u001b[0m\u001b[0mself\u001b[0m\u001b[1;33m.\u001b[0m\u001b[0mstate_evolution\u001b[0m\u001b[1;33m[\u001b[0m\u001b[0mn\u001b[0m\u001b[1;33m]\u001b[0m\u001b[1;33m)\u001b[0m\u001b[1;33m)\u001b[0m\u001b[1;33m\u001b[0m\u001b[1;33m\u001b[0m\u001b[0m\n\u001b[0;32m    136\u001b[0m     \u001b[1;31m# Visualization\u001b[0m\u001b[1;33m\u001b[0m\u001b[1;33m\u001b[0m\u001b[1;33m\u001b[0m\u001b[0m\n",
      "\u001b[1;31mAttributeError\u001b[0m: 'SimulatedAnnealing' object has no attribute 'state_evolution'"
     ]
    }
   ],
   "source": [
    "t.energypath()"
   ]
  },
  {
   "cell_type": "code",
   "execution_count": 12,
   "metadata": {},
   "outputs": [
    {
     "ename": "AttributeError",
     "evalue": "'SimulatedAnnealing' object has no attribute 'state_evolution'",
     "output_type": "error",
     "traceback": [
      "\u001b[1;31m---------------------------------------------------------------------------\u001b[0m",
      "\u001b[1;31mAttributeError\u001b[0m                            Traceback (most recent call last)",
      "\u001b[1;32m<ipython-input-12-941d8d990738>\u001b[0m in \u001b[0;36m<module>\u001b[1;34m\u001b[0m\n\u001b[1;32m----> 1\u001b[1;33m \u001b[0mt\u001b[0m\u001b[1;33m.\u001b[0m\u001b[0mvisualize_all_states\u001b[0m\u001b[1;33m(\u001b[0m\u001b[1;33m)\u001b[0m\u001b[1;33m\u001b[0m\u001b[1;33m\u001b[0m\u001b[0m\n\u001b[0m",
      "\u001b[1;32m<ipython-input-2-0870fad29b14>\u001b[0m in \u001b[0;36mvisualize_all_states\u001b[1;34m(self, folder)\u001b[0m\n\u001b[0;32m    154\u001b[0m             \u001b[1;34m\"\"\"save all different states as png\"\"\"\u001b[0m\u001b[1;33m\u001b[0m\u001b[1;33m\u001b[0m\u001b[0m\n\u001b[0;32m    155\u001b[0m             \u001b[0mi\u001b[0m\u001b[1;33m=\u001b[0m\u001b[1;36m0\u001b[0m\u001b[1;33m\u001b[0m\u001b[1;33m\u001b[0m\u001b[0m\n\u001b[1;32m--> 156\u001b[1;33m             \u001b[1;32mfor\u001b[0m \u001b[0mstate\u001b[0m \u001b[1;32min\u001b[0m \u001b[0mself\u001b[0m\u001b[1;33m.\u001b[0m\u001b[0mstate_evolution\u001b[0m\u001b[1;33m:\u001b[0m\u001b[1;33m\u001b[0m\u001b[1;33m\u001b[0m\u001b[0m\n\u001b[0m\u001b[0;32m    157\u001b[0m                     \u001b[0mplt\u001b[0m \u001b[1;33m=\u001b[0m \u001b[0mself\u001b[0m\u001b[1;33m.\u001b[0m\u001b[0mvisualize_one_state\u001b[0m\u001b[1;33m(\u001b[0m\u001b[0mstate\u001b[0m\u001b[1;33m)\u001b[0m\u001b[1;33m\u001b[0m\u001b[1;33m\u001b[0m\u001b[0m\n\u001b[0;32m    158\u001b[0m                     \u001b[0mplt\u001b[0m\u001b[1;33m.\u001b[0m\u001b[0msavefig\u001b[0m\u001b[1;33m(\u001b[0m\u001b[0mfolder\u001b[0m\u001b[1;33m+\u001b[0m \u001b[1;34m'tsp_'\u001b[0m\u001b[1;33m+\u001b[0m \u001b[0mstr\u001b[0m\u001b[1;33m(\u001b[0m\u001b[0mi\u001b[0m\u001b[1;33m)\u001b[0m\u001b[1;33m)\u001b[0m\u001b[1;33m\u001b[0m\u001b[1;33m\u001b[0m\u001b[0m\n",
      "\u001b[1;31mAttributeError\u001b[0m: 'SimulatedAnnealing' object has no attribute 'state_evolution'"
     ]
    }
   ],
   "source": [
    "t.visualize_all_states()"
   ]
  },
  {
   "cell_type": "code",
   "execution_count": null,
   "metadata": {},
   "outputs": [],
   "source": []
  }
 ],
 "metadata": {
  "kernelspec": {
   "display_name": "Python 3",
   "language": "python",
   "name": "python3"
  },
  "language_info": {
   "codemirror_mode": {
    "name": "ipython",
    "version": 3
   },
   "file_extension": ".py",
   "mimetype": "text/x-python",
   "name": "python",
   "nbconvert_exporter": "python",
   "pygments_lexer": "ipython3",
   "version": "3.8.5"
  }
 },
 "nbformat": 4,
 "nbformat_minor": 4
}
